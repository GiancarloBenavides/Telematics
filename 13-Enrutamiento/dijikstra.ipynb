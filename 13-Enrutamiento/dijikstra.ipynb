{
 "cells": [
  {
   "attachments": {},
   "cell_type": "markdown",
   "metadata": {},
   "source": [
    "# Algoritmo de Dijkstra\n",
    "<p><code>Python en Jupyter Notebook</code></p>\n",
    "<p>Creado por <code>Giancarlo Ortiz</code> para explicar los fundamentos de los <code>Sistemas de comunicaciones</code> en los cursos de telemática y redes de computadores.</p>\n",
    "\n",
    "## Descripción\n",
    "Este algoritmo, también llamado de caminos mínimos, es un método para resolver el problema del camino mas corto.\n",
    "\n",
    "### Agenda\n",
    "1. Grafos\n",
    "1. Algoritmo\n",
    "1. Código\n",
    "1. Ejemplo"
   ]
  },
  {
   "attachments": {},
   "cell_type": "markdown",
   "metadata": {},
   "source": [
    "## 1. Grafos\n",
    "---\n",
    "En matemáticas y ciencias de la computación, un grafo es un conjunto de objetos llamados vértices o nodos unidos por enlaces llamados aristas o arcos, que permiten representar relaciones binarias entre los elementos del conjunto.\n",
    "\n",
    "Un grafo es un par ordenado de la forma $G = (V,E)$ de tal forma que G es el conjunto de los vertices y E es un conjunto de tuplas que relacionan los vertices, indicado por cada arista y tiene las siguientes propiedades.\n",
    "\n",
    "### 1.1. Propiedades\n",
    "* __Orden:__ número de vertices del grafo.\n",
    "* __Grado de un vértice:__ número aristas conectadas.\n",
    "* __Bucle:__ es un vértice que se relaciona con si mismo.\n",
    "\n",
    "### 1.2. Tipos de Grafos\n",
    "Los grafos pueden ser:\n",
    "* __No dirigido:__ si para cada par de nodos conectados, puedes ir de un nodo al otro en ambas direcciones.\n",
    "* __Dirigido:__ si para cada par de nodos conectados, solo puedes ir de un nodo a otro en una dirección específica.\n",
    "* __Ponderado:__ es un grafo cuyos arcos tienen un \"costo\" asociado.\n",
    "\n",
    "### 1.3. Estructura de datos\n",
    "Las dos representaciones principales de grafos son las siguientes:\n",
    "\n",
    "<table><tr>\n",
    "<td>\n",
    "\n",
    "\\begin{aligned}\n",
    "G &= (V,E) \\\\\n",
    "V &= \\{1,2,3,4,5\\} \\\\\n",
    "E &= \\{(1,2),(1,4),(2,3),(2,5),(3,4),(4,5)\\} \\\\\n",
    "\n",
    "\\end{aligned}\n",
    "\n",
    "</td>\n",
    "<td>\n",
    "\n",
    "![](../img/graph.png)\n",
    "\n",
    "</td>\n",
    "</tr></table>\n",
    "\n",
    "\n",
    "\n",
    "\n",
    "#### 1.3.1. Matriz de adyacencia (MA): \n",
    "Una [__MA__](https://es.wikipedia.org/wiki/Matriz_de_adyacencia) es una matriz de tamaño n×n donde las filas y las columnas hacen referencia a los vértices y las intersecciones se usan para guardar las métricas asociadas a cada par de vértices del grafo.\n",
    "\n",
    "|M|1|2|3|4|5|\n",
    "|--|--|--|--|--|--|\n",
    "|1|0|1|0|1|0|\n",
    "|2|1|0|1|0|1|\n",
    "|3|0|1|0|1|0|\n",
    "|4|1|0|1|0|1|\n",
    "|4|0|1|0|1|0|\n",
    "\n",
    "#### 1.3.1. Lista de adyacencia (LA): \n",
    "Una [__LA__](https://es.wikipedia.org/wiki/Lista_de_adyacencia) es un vector de tamaño n, un elemento por cada vértice. donde LA[i] almacena la referencia a una lista de los vértices adyacentes a i.\n",
    "\n",
    "### Ejemplo\n",
    "* Se N=8 el orden de un grafo represente la matriz de vertices con las primeras letras del alfabeto.\n",
    " el El resultado del algoritmo de Dijkstra para el grafo dado en el código es:"
   ]
  },
  {
   "cell_type": "code",
   "execution_count": null,
   "metadata": {},
   "outputs": [],
   "source": [
    "# Un grafo de orden 8 tiene 8 vertices\n",
    "Vertices=['a', 'c', 'b', 'd', 'e', 'f', 'g', 'z'] \n",
    "\n",
    "distancia={'a': 0, 'b': 4, 'c': 3, 'd': 6, 'e': 7, 'g': 12, 'f': 11, 'z': 16}\n",
    "\n",
    "previos={'a': None, 'b': 'a', 'c': 'a', 'd': 'c', 'e': 'd', 'g': 'e', 'f': 'd', 'z': 'g'}}"
   ]
  },
  {
   "attachments": {},
   "cell_type": "markdown",
   "metadata": {},
   "source": [
    "# 2. Algoritmo de Dijkstra\n",
    "---\n",
    "* Los grafos son usados para modelar conexiones entre objetos, personas o entidades.\n",
    "* El algoritmo de Dijkstra usa grafos para encontrar el camino más optimo.\n",
    "\n",
    "# 3. Código\n",
    "---\n",
    "Esta implementación del Algoritmo de Dijkstra en python utilizando min heap.\n",
    "En el código implementado en Python se utiliza una representación de un **grafo** en forma de diccionario, de forma en que las claves son sus nodos, y el valor de cada clave es otro diccionario que contiene los nodos a los que está conectado, el nodo clave y el valor asociado es la distancia. Para calcular el camino más corto de otro grafo simplemente modifique el diccionario."
   ]
  },
  {
   "cell_type": "code",
   "execution_count": null,
   "metadata": {},
   "outputs": [],
   "source": [
    "def dijkstra(Grafo, salida):\n",
    "    dist, prev = {}, {}\n",
    "    result = []\n",
    "\n",
    "    for vertice in Grafo:\n",
    "        dist[vertice] = float(\"inf\")\n",
    "        prev[vertice] = None\n",
    "    dist[salida] = 0\n",
    "\n",
    "    Q = [vertice for vertice in Grafo]\n",
    "\n",
    "    while Q:\n",
    "        u = min(Q, key=dist.get)\n",
    "        Q.remove(u)\n",
    "        result.append(u)\n",
    "\n",
    "        for vecino in Grafo[u]:\n",
    "            if vecino in Q and dist[vecino] > dist[u] + Grafo[u][vecino]:\n",
    "                dist[vecino] = dist[u] + Grafo[u][vecino]\n",
    "                prev[vecino] = u\n",
    "\n",
    "    return result, dist, prev"
   ]
  },
  {
   "attachments": {},
   "cell_type": "markdown",
   "metadata": {},
   "source": [
    "### <code>Ejemplo:</code> Rentabilidad\n",
    "---\n"
   ]
  },
  {
   "cell_type": "code",
   "execution_count": null,
   "metadata": {},
   "outputs": [],
   "source": [
    "grafo = {\n",
    "    'a': {'b': 4, 'c': 3},\n",
    "    'b': {'d': 5},\n",
    "    'c': {'b': 2, 'd': 3, 'e': 6},\n",
    "    'd': {'f': 5, 'e': 1},\n",
    "    'e': {'g': 5},\n",
    "    'g': {'z': 4},\n",
    "    'f': {'g': 2, 'z': 7},\n",
    "    'z': {}\n",
    "}\n",
    "\n",
    "s, distancia, previos = dijkstra(grafo, 'a')\n",
    "print(f\"{s=}\")\n",
    "print(f\"{distancia=}\")\n",
    "print(f\"{previos=}\")"
   ]
  },
  {
   "attachments": {},
   "cell_type": "markdown",
   "metadata": {},
   "source": [
    "---\n",
    "## Mas Recursos\n",
    "- [Grafo](https://es.wikipedia.org/wiki/Grafo) (Wikipedia)\n",
    "- [Teoría de grafos](https://es.wikipedia.org/wiki/Teor%C3%ADa_de_grafos) (Wikipedia)\n",
    "- [Algoritmo de Dijkstra](https://es.wikipedia.org/wiki/Algoritmo_de_Dijkstra) - [Ejemplo](https://es.wikipedia.org/wiki/Anexo:Ejemplo_de_Algoritmo_de_Dijkstra) - [Video](https://www.youtube.com/watch?v=eGJRnwrTC5g) (Wikipedia, YouTube) "
   ]
  }
 ],
 "metadata": {
  "language_info": {
   "name": "python"
  },
  "orig_nbformat": 4
 },
 "nbformat": 4,
 "nbformat_minor": 2
}
