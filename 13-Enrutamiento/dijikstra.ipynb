{
 "cells": [
  {
   "attachments": {},
   "cell_type": "markdown",
   "metadata": {},
   "source": [
    "# Algoritmo de Dijkstra\n",
    "<p><code>Python en Jupyter Notebook</code></p>\n",
    "<p>Creado por <code>Giancarlo Ortiz</code> para explicar los fundamentos de los <code>Sistemas de comunicaciones</code> en los cursos de telemática y redes de computadores.</p>\n",
    "\n",
    "## Descripción Dijkstra\n",
    "Este algoritmo, también llamado de caminos mínimos, es un método para resolver el problema del camino mas corto.\n",
    "\n",
    "### Agenda\n",
    "1. Grafos\n",
    "1. Algoritmo\n",
    "1. Código\n",
    "1. Ejemplo\n",
    "\n",
    "\n",
    "\n",
    "### Estructura de datos\n",
    "Para el resultado se utiliza varias estructuras que tienen un máximo de tamaño O(n) donde n es el numero de nodos del grafo.\n",
    "\n",
    "### Ejemplo\n",
    "El resultado del algoritmo de Dijkstra para el grafo dado en el código es:\n",
    "\n",
    "```python\n",
    "s=['a', 'c', 'b', 'd', 'e', 'f', 'g', 'z'] \n",
    "\n",
    "distancia={'a': 0, 'b': 4, 'c': 3, 'd': 6, 'e': 7, 'g': 12, 'f': 11, 'z': 16}\n",
    "\n",
    "previos={'a': None, 'b': 'a', 'c': 'a', 'd': 'c', 'e': 'd', 'g': 'e', 'f': 'd', 'z': 'g'}}\n",
    "```"
   ]
  },
  {
   "attachments": {},
   "cell_type": "markdown",
   "metadata": {},
   "source": [
    "## 1. Grafos\n",
    "---\n",
    "En matemáticas y ciencias de la computación, un grafo es un conjunto de objetos llamados vértices o nodos unidos por enlaces llamados aristas o arcos, que permiten representar relaciones binarias entre los elementos del conjunto.\n",
    "\n",
    "Un grafo es un par ordenado de la forma $G = (V,E)$ de tal forma que G es el conjunto de los vertices y E el conjunto de las aristas que relacionan los vertices y tiene las siguientes propiedades.\n",
    "\n",
    "* __Orden:__ número de vertices del grafo.\n",
    "* __Grado de un vértice:__ número aristas conectadas.\n",
    "* __Bucle:__ es un vértice que se relaciona con si mismo.\n",
    "\n",
    "\n",
    "## 3. Código\n",
    "---\n",
    "Esta implementación del Algoritmo de Dijkstra en python utilizando min heap.\n",
    "En el código implementado en Python se utiliza una representación de un **grafo** en forma de diccionario, de forma en que las claves son sus nodos, y el valor de cada clave es otro diccionario que contiene los nodos a los que está conectado, el nodo clave y el valor asociado es la distancia. Para calcular el camino más corto de otro grafo simplemente modifique el diccionario.\n"
   ]
  },
  {
   "cell_type": "code",
   "execution_count": null,
   "metadata": {},
   "outputs": [],
   "source": [
    "def dijkstra(Grafo, salida):\n",
    "    dist, prev = {}, {}\n",
    "    result = []\n",
    "\n",
    "    for vertice in Grafo:\n",
    "        dist[vertice] = float(\"inf\")\n",
    "        prev[vertice] = None\n",
    "    dist[salida] = 0\n",
    "\n",
    "    Q = [vertice for vertice in Grafo]\n",
    "\n",
    "    while Q:\n",
    "        u = min(Q, key=dist.get)\n",
    "        Q.remove(u)\n",
    "        result.append(u)\n",
    "\n",
    "        for vecino in Grafo[u]:\n",
    "            if vecino in Q and dist[vecino] > dist[u] + Grafo[u][vecino]:\n",
    "                dist[vecino] = dist[u] + Grafo[u][vecino]\n",
    "                prev[vecino] = u\n",
    "\n",
    "    return result, dist, prev"
   ]
  },
  {
   "attachments": {},
   "cell_type": "markdown",
   "metadata": {},
   "source": [
    "### <code>Ejemplo:</code> Rentabilidad\n",
    "---\n"
   ]
  },
  {
   "cell_type": "code",
   "execution_count": null,
   "metadata": {},
   "outputs": [],
   "source": [
    "grafo = {\n",
    "    'a': {'b': 4, 'c': 3},\n",
    "    'b': {'d': 5},\n",
    "    'c': {'b': 2, 'd': 3, 'e': 6},\n",
    "    'd': {'f': 5, 'e': 1},\n",
    "    'e': {'g': 5},\n",
    "    'g': {'z': 4},\n",
    "    'f': {'g': 2, 'z': 7},\n",
    "    'z': {}\n",
    "}\n",
    "\n",
    "s, distancia, previos = dijkstra(grafo, 'a')\n",
    "print(f\"{s=}\")\n",
    "print(f\"{distancia=}\")\n",
    "print(f\"{previos=}\")"
   ]
  }
 ],
 "metadata": {
  "language_info": {
   "name": "python"
  },
  "orig_nbformat": 4
 },
 "nbformat": 4,
 "nbformat_minor": 2
}
