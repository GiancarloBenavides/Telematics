{
 "cells": [
  {
   "cell_type": "markdown",
   "metadata": {},
   "source": [
    "# Introducción al entorno de trabajo\n",
    "<p><code>Python en Jupyter Notebook</code></p>\n",
    "<p>Creado por <code>Giancarlo Ortiz</code> para el curso de <code>Redes</code></p>\n",
    "\n",
    "## Reconociendo el entorno de Jupyter Notebook\n",
    "Jupyter Notebook es una aplicación web de código abierto que facilita la computación interactiva y colaborativa en docenas de lenguajes de programación, incluidos Python, R y julia; tres lenguajes muy populares entre los científicos de datos en la actualidad.\n",
    "\n",
    "### Agenda\n",
    "1. Empezando con Jupyter\n",
    "1. Importando librerías\n",
    "1. Ejecutando código"
   ]
  },
  {
   "cell_type": "markdown",
   "metadata": {},
   "source": [
    "\n",
    "## 1. Empezando\n",
    "---\n",
    "El proyecto Jupyter permite crear y compartir mediante una web; documentos que contienen código de simulación numérica en vivo, ecuaciones en <code>LaTeX</code>, distintas visualizaciones gráficas y texto narrativo en un mismo lugar.\n",
    "\n",
    "Actualmente está viendo un editor de texto plano basado en <code>Jupyter Notebook</code>. Es un documento interactivo que admite la combinación de código, salida estándar y documentación en formato markdown.\n",
    "\n",
    "Esta celda es una celda de documentación en markdown; para editar el texto en esta celda, simplemente haga doble clic en la celda para cambiar al modo de edición.\n",
    "\n",
    "La celda a continuación es una celda de código. Puede cambiar una celda entre código y documentación desde la lista desplegable o haciendo clic en las llaves \\{\\} (paréntesis angulares) de la parte superior, según el entorno de trabajo.\n",
    "\n",
    "También es posible conmutar entre los tipos de celda pulsando los atajos de teclado:\n",
    "* <code>tecla M</code>: celda de documentación.\n",
    "* <code>tecla Y</code>: celda de código."
   ]
  },
  {
   "cell_type": "code",
   "execution_count": 1,
   "metadata": {},
   "outputs": [
    {
     "name": "stdout",
     "output_type": "stream",
     "text": [
      "4\n",
      "El tipo de la variable c es: 3\n",
      "El valor de la variable b es: 3 y su tipo es: <class 'int'>\n"
     ]
    }
   ],
   "source": [
    "# [Celda de código en Python]\n",
    "\" Asignación múltiple de variables. \"\"\"\n",
    "a, b, c = 4, 3, 6\n",
    "\n",
    "# Salida\n",
    "print(a)\n",
    "print(\"El tipo de la variable c es:\", b)\n",
    "print(f\"El valor de la variable b es: {b} y su tipo es: {type(b)}\")"
   ]
  },
  {
   "cell_type": "code",
   "execution_count": 2,
   "metadata": {},
   "outputs": [
    {
     "name": "stdout",
     "output_type": "stream",
     "text": [
      "8\n",
      "9\n",
      "24\n"
     ]
    },
    {
     "data": {
      "text/plain": [
       "tuple"
      ]
     },
     "execution_count": 2,
     "metadata": {},
     "output_type": "execute_result"
    }
   ],
   "source": [
    "# [Celda de código en Python]\n",
    "\"\"\" Asignación múltiple usando funciones que retornan múltiples valores. \"\"\"\n",
    "def multiple(a, b, c):\n",
    "    x, y, z = 2*a, 3*b, 4*c\n",
    "    return x, y, z\n",
    "\n",
    "# Salida\n",
    "p1, p2, p3 = multiple(a, b, c)    \n",
    "p = multiple(a, b, c)\n",
    "print(p1)\n",
    "print(p2)\n",
    "print(p3)\n",
    "type(p)"
   ]
  },
  {
   "cell_type": "markdown",
   "metadata": {},
   "source": [
    "## 2. Importando Librerías\n",
    "---\n",
    "Como se menciona en la sección de generalidades de Python, la mayor parte del poder de un lenguaje de programación está en sus bibliotecas. jupyter permite importar módulos de Python de la forma tradicional; incluso el comando <code>help()</code> funciona como se espera.\n",
    "\n",
    "### Bibliotecas: \n",
    "\n",
    "<ul>\n",
    "    <li><code>numpy</code> - Herramientas de computación numérica (matricial)</li>\n",
    "    <li><code>sympy</code> - Herramientas de computación algebraica (simbólica)</li>\n",
    "    <li><code>scipy</code> - Herramientas de computación numérica (científica)</li>\n",
    "    <li><code>pandas</code> - Herramientas de lectura y análisis de datos</li>\n",
    "    <li><code>matplotlib</code> - Herramientas para generar gráficos 2D/3D</li>\n",
    "</ul>\n",
    "\n",
    "### Instalación:\n",
    "\n",
    "```console\n",
    "python -m pip install --upgrade pip\n",
    "sudo apt install python3-pip\n",
    "pip install numpy\n",
    "pip install matplotlib\n",
    "pip install scipy\n",
    "```\n",
    "\n",
    "### Importación:\n",
    "\n",
    "```python\n",
    "import numpy as np\n",
    "import sympy as sp\n",
    "from scipy.fft import fft, ifft\n",
    "import pandas as pd\n",
    "import matplotlib as mpl\n",
    "```\n",
    "### Otras herramientas:\n",
    "\n",
    "<ul> \n",
    "    <li><code>iPython</code> - Shell interactivo de python </li>\n",
    "    <li><code>jupyter</code> - Herramientas de computación numérica </li>\n",
    "</ul>"
   ]
  },
  {
   "cell_type": "code",
   "execution_count": 3,
   "metadata": {},
   "outputs": [],
   "source": [
    "# [iPython] - Importar módulos al cuaderno de jupyter\n",
    "import numpy as np\n",
    "import matplotlib.pyplot as plt\n",
    "\n",
    "# [iPython] - Importar elementos de un módulo al cuaderno de jupyter\n",
    "from math import pi\n",
    "from numpy import sin"
   ]
  },
  {
   "cell_type": "markdown",
   "metadata": {},
   "source": [
    "## 3. Ejecutando código\n",
    "---\n",
    "Antes de iniciar la ejecución del código debe escoger el núcleo o <code>Kernel</code> para la ejecución de dicho código; en este curso usaremos el lenguaje Python en su versión 3.8, pero también son posibles otros lenguajes de programación y versiones de Python como ya se mencionó anteriormente.\n",
    "\n",
    "Puede elegir ejecutar celdas de diferentes maneras:\n",
    "* Una celda individual\n",
    "* Todas las celdas hacia abajo.\n",
    "* Todas las celdas hacia arriba.\n",
    "* Todas las celdas de código en un <code>Jupyter Notebook</code>.\n",
    "\n",
    ">**NOTA:** siempre tenga en cuenta que si una celda no ha sido ejecutada sus resultados no estarán disponibles y entonces la ejecución de una celda que necesite esos datos puede fallar o dar resultados incorrectos."
   ]
  },
  {
   "cell_type": "markdown",
   "metadata": {},
   "source": [
    "---\n",
    "## Mas Recursos\n",
    "\n",
    "- [Documentación oficial de Jupyter](https://jupyter.org/documentation)\n",
    "- [Documentación de Jupyter VSCode](https://code.visualstudio.com/docs/python/jupyter-support)\n"
   ]
  }
 ],
 "metadata": {
  "kernelspec": {
   "display_name": "Python 3.10.4 64-bit",
   "language": "python",
   "name": "python3"
  },
  "language_info": {
   "codemirror_mode": {
    "name": "ipython",
    "version": 3
   },
   "file_extension": ".py",
   "mimetype": "text/x-python",
   "name": "python",
   "nbconvert_exporter": "python",
   "pygments_lexer": "ipython3",
   "version": "3.10.4"
  },
  "vscode": {
   "interpreter": {
    "hash": "916dbcbb3f70747c44a77c7bcd40155683ae19c65e1c03b4aa3499c5328201f1"
   }
  }
 },
 "nbformat": 4,
 "nbformat_minor": 2
}
