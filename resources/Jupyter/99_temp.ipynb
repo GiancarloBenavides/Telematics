{
 "cells": [
  {
   "cell_type": "code",
   "execution_count": 34,
   "metadata": {},
   "outputs": [],
   "source": [
    "import math as m\n",
    "\n",
    "def watts_to_dBm(watts:float)->float:\n",
    "    ''' Convertir potencia de Watts en dBm. ''' \n",
    "    return round(10 * m.log10(watts/0.001))\n",
    "\n",
    "def watts_to_dB(watts:float)->float:\n",
    "    ''' Convertir potencia de Watts en dB. ''' \n",
    "    return round(10 * m.log10(watts))\n",
    "\n",
    "def snr(signal:float, noise:float)->float:\n",
    "    ''' Calcular snr de dos potencias en dB. ''' \n",
    "    return round(10 * watts_to_dB(signal/noise))\n",
    "\n",
    "def dB_to_watts(decibelios:float)->float:\n",
    "    ''' Calcular snr de dos potencias en dB. ''' \n",
    "    return round(100 / 10**(decibelios/10))\n"
   ]
  },
  {
   "cell_type": "code",
   "execution_count": 8,
   "metadata": {},
   "outputs": [
    {
     "data": {
      "text/plain": [
       "20"
      ]
     },
     "execution_count": 8,
     "metadata": {},
     "output_type": "execute_result"
    }
   ],
   "source": [
    "dBm(100e-3)"
   ]
  },
  {
   "cell_type": "code",
   "execution_count": 36,
   "metadata": {},
   "outputs": [
    {
     "data": {
      "text/plain": [
       "-3.011611724062011"
      ]
     },
     "execution_count": 36,
     "metadata": {},
     "output_type": "execute_result"
    }
   ],
   "source": [
    "20 * m.log10(70.7/100)"
   ]
  },
  {
   "cell_type": "code",
   "execution_count": 35,
   "metadata": {},
   "outputs": [
    {
     "data": {
      "text/plain": [
       "200"
      ]
     },
     "execution_count": 35,
     "metadata": {},
     "output_type": "execute_result"
    }
   ],
   "source": [
    "dB_to_watts(-3)"
   ]
  },
  {
   "cell_type": "code",
   "execution_count": 50,
   "metadata": {},
   "outputs": [
    {
     "name": "stdout",
     "output_type": "stream",
     "text": [
      "(x,y)=(2276.62, 643.26)\n"
     ]
    }
   ],
   "source": [
    "pos_x=300\n",
    "pos_y=37.4\n",
    "\n",
    "salto_y=(1565.7-579.13)/40\n",
    "salto_x=(2276.62-1195.46)/300\n",
    "\n",
    "y=round(1565.7-(pos_y*salto_y), 2)\n",
    "x=round(1195.46+(pos_x*salto_x), 2)\n",
    "\n",
    "print(f\"(x,y)=({x}, {y})\")\n"
   ]
  },
  {
   "cell_type": "code",
   "execution_count": 51,
   "metadata": {},
   "outputs": [
    {
     "data": {
      "text/plain": [
       "1e-07"
      ]
     },
     "execution_count": 51,
     "metadata": {},
     "output_type": "execute_result"
    }
   ],
   "source": [
    "10e-12*10**(40/10)"
   ]
  }
 ],
 "metadata": {
  "kernelspec": {
   "display_name": "Python 3",
   "language": "python",
   "name": "python3"
  },
  "language_info": {
   "codemirror_mode": {
    "name": "ipython",
    "version": 3
   },
   "file_extension": ".py",
   "mimetype": "text/x-python",
   "name": "python",
   "nbconvert_exporter": "python",
   "pygments_lexer": "ipython3",
   "version": "3.11.3"
  },
  "orig_nbformat": 4
 },
 "nbformat": 4,
 "nbformat_minor": 2
}
