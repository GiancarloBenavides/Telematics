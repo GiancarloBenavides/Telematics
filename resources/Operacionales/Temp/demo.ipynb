{
 "cells": [
  {
   "cell_type": "markdown",
   "metadata": {},
   "source": [
    "# Fundamentos de Sistemas Operativos\n",
    "<p><code>Python en Jupyter Notebook</code></p>\n",
    "<p>Creado por <code>Giancarlo Ortiz</code> para el curso de <code>SO-1</code></p>\n",
    "<style type=\"text/css\">\n",
    "    .formula {\n",
    "        background: #f7f7f7;\n",
    "        border-radius: 50px;\n",
    "        padding: 15px;\n",
    "    }\n",
    "    .border {\n",
    "        display: inline-block;\n",
    "        border: solid 1px rgba(204, 204, 204, 0.4);\n",
    "        border-bottom-color: rgba(187, 187, 187, 0.4);\n",
    "        border-radius: 3px;\n",
    "        box-shadow: inset 0 -1px 0 rgba(187, 187, 187, 0.4);\n",
    "        background-color: inherit !important;\n",
    "        vertical-align: middle;\n",
    "        color: inherit !important;\n",
    "        font-size: 11px;\n",
    "        padding: 3px 5px;\n",
    "        margin: 0 2px;\n",
    "    }\n",
    "</style>\n",
    "\n",
    "\n",
    "## Sistemas Operativos\n",
    "Se refiere a una evaluación de la rentabilidad y estabilidad de un proyecto para determinar su viabilidad.\n",
    "\n",
    "## Agenda\n",
    "1. Rentabilidad\n",
    "1. Estabilidad\n",
    "1. Devaluación\n",
    "1. Inflación"
   ]
  },
  {
   "cell_type": "code",
   "execution_count": 1,
   "metadata": {},
   "outputs": [],
   "source": [
    "# Importar módulos al cuaderno de Jupyter\n",
    "import numpy_financial as npf\n",
    "import pylab as pl\n"
   ]
  },
  {
   "cell_type": "markdown",
   "metadata": {},
   "source": [
    "## 1.1 Rentabilidad\n",
    "---\n",
    "La capacidad para obtener ingresos y sostener el crecimiento tanto a corto como a largo plazo. El grado de rentabilidad de una empresa generalmente se basa en el estado de resultados, que informa sobre los resultados de las operaciones de la compañía.\n",
    "\n",
    "\\begin{equation*}\n",
    "ROE = \\frac {Beneficio Neto}{Patrimonio Neto}  \\\\\n",
    "\\end{equation*}\n",
    "\n",
    ">Existen empresas que siguen una estrategia de líderes en costes que basan su rentabilidad en una alta rotación con un bajo margen. Es decir venden mucha cantidad pero con poco margen en cada venta. En tanto otras empresas basan su rentabilidad en unos altos márgenes, pero una rotación baja.\n",
    "\n",
    "\\begin{equation*}\n",
    "ROE = \\frac {Beneficio}{Ventas} \\cdot \\frac {Ventas}{Activos} \\cdot \\frac {Activos}{Recursos Propios}  \\\\\n",
    "\\end{equation*}\n",
    "\n",
    "\\begin{equation*}\n",
    "ROE = M \\cdot R \\cdot A \\\\\n",
    "\\end{equation*}\n",
    "\n",
    ">Donde:\n",
    "> * $\\color{#a78a4d}{ROE}$ = _Return on equity_ o [Rentabilidad financiera][111]\n",
    "> * $\\color{#a78a4d}{M}$ = _Profit margin_ o [Margen de beneficio][112]\n",
    "> * $\\color{#a78a4d}{R}$ = _Asset turnover_ o [Rotación de activos][113]\n",
    "> * $\\color{#a78a4d}{A}$ = _Leverage_ o [Apalancamiento][114]\n",
    "\n",
    "[111]:https://es.wikipedia.org/wiki/Rentabilidad_financiera\n",
    "[112]:https://es.wikipedia.org/wiki/Margen_de_beneficio\n",
    "[113]:https://es.wikipedia.org/wiki/Rotaci%C3%B3n_de_activos\n",
    "[114]:https://es.wikipedia.org/wiki/Apalancamiento\n",
    "\n",
    "\n",
    "### <code>Ejemplo:</code> Rentabilidad \n",
    "---\n",
    "Linda Castillo quiere acelerar __Estrella__, una Startup con un modelo de negocio en el segmento de telecomunicaciones que ya ha validado con el mercado y necesita para ello US$50.000 dolares para fortalecer la operación, sus socios fundadores y él reúnen US$10.000 dolares de sus ahorros a la [TRM][114] del dia y un fondo de inversion les propone apalancar el proyecto con la diferencia por el 25% del beneficio neto.\n",
    "\n",
    "Si al final del primer año se ha obtenido un beneficio de US$8.270:\n",
    "* ¿Cuál es la rentabilidad para los socios fundadores?\n",
    "* ¿Cuál es la rentabilidad para el fondo de inversion?.\n",
    "\n",
    "[114]:https://www.banrep.gov.co/es/estadisticas/trm"
   ]
  },
  {
   "cell_type": "code",
   "execution_count": 2,
   "metadata": {},
   "outputs": [
    {
     "name": "stdout",
     "output_type": "stream",
     "text": [
      "----------------------------------------------------------------------\n",
      "| Detalle       |     Socios     |     Fondo      |      Total       |\n",
      "----------------------------------------------------------------------\n",
      "| Inversión     | US$  10,000.00 | US$  40,000.00 | US$    50,000.00 |\n",
      "| Beneficio     | US$   6,202.50 | US$   2,067.50 | US$     8,270.00 |\n",
      "| Rentabilidad  |         62.02% |          5.17% |           16.54% |\n",
      "----------------------------------------------------------------------\n"
     ]
    }
   ],
   "source": [
    "# Datos\n",
    "inversion = 50_000\n",
    "capital_socios = 10_000\n",
    "beneficio = 8270\n",
    "\n",
    "# Calculos\n",
    "capital_fondo = inversion - capital_socios\n",
    "beneficio_socios = 75*beneficio/100\n",
    "beneficio_fondo = 25*beneficio/100\n",
    "\n",
    "roe = beneficio/inversion\n",
    "roe_socios = beneficio_socios/capital_socios\n",
    "roe_fondo = beneficio_fondo/capital_fondo\n",
    "\n",
    "\n",
    "# Salida\n",
    "print(f\"-\"*70)\n",
    "print(f\"| Detalle       |\" + \"Socios\".center(16) + \"|\" +\"Fondo\".center(16) + \"|\" + \"Total\".center(18) + \"|\")\n",
    "print(f\"-\"*70)\n",
    "print(f\"| Inversión     | US$ {capital_socios:10,.2f} | US$ {capital_fondo:10,.2f} | US$ {inversion:12,.2f} |\")\n",
    "print(f\"| Beneficio     | US$ {beneficio_socios:10,.2f} | US$ {beneficio_fondo:10,.2f} | US$ {beneficio:12,.2f} |\")\n",
    "print(f\"| Rentabilidad  | {100*roe_socios:13,.2f}% | {100*roe_fondo:13,.2f}% | {100*roe:15,.2f}% |\")\n",
    "print(f\"-\"*70)\n"
   ]
  },
  {
   "cell_type": "markdown",
   "metadata": {
    "colab_type": "text",
    "id": "-Rh3-Vt9Nev9"
   },
   "source": [
    "---\n",
    "## Mas Recursos\n",
    "- [Análisis financiero](https://es.wikipedia.org/wiki/An%C3%A1lisis_financiero) (Wikipedia)\n",
    "- [Riqueza](https://es.wikipedia.org/wiki/Riqueza) (Wikipedia)\n",
    "- [Desigualdad social](https://es.wikipedia.org/wiki/Desigualdad_social) (Wikipedia)\n",
    "- [Desigualdad de ingreso](https://es.wikipedia.org/wiki/Desigualdad_de_ingreso) (Wikipedia)\n",
    "- [Obsolescencia programada](https://es.wikipedia.org/wiki/Obsolescencia_programada) (Wikipedia)\n"
   ]
  }
 ],
 "metadata": {
  "kernelspec": {
   "display_name": "Python 3.8.2 32-bit",
   "metadata": {
    "interpreter": {
     "hash": "dcfa17eba1dc66845e0904f61caf004065b70fa6c516601030b63e53c64813c1"
    }
   },
   "name": "python3"
  },
  "language_info": {
   "codemirror_mode": {
    "name": "ipython",
    "version": 3
   },
   "file_extension": ".py",
   "mimetype": "text/x-python",
   "name": "python",
   "nbconvert_exporter": "python",
   "pygments_lexer": "ipython3",
   "version": "3.9.10"
  }
 },
 "nbformat": 4,
 "nbformat_minor": 1
}
