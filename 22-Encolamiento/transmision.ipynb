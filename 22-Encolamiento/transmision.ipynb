{
 "cells": [
  {
   "cell_type": "markdown",
   "metadata": {},
   "source": [
    "# Transmisión de señales por un canal de comunicaciones\n",
    "<p><code>Python en Jupyter Notebook</code></p>\n",
    "<p>Creado por <code>Giancarlo Ortiz</code> para explicar los fundamentos de los <code>Sistemas de comunicaciones</code> en los cursos de telemática y redes de computadores.</p>\n",
    "\n",
    "## Descripción\n",
    "Este algoritmo, también llamado de caminos mínimos, es un método para resolver el problema del camino mas corto.\n",
    "\n",
    "### Agenda\n",
    "1. Grafos\n",
    "1. Algoritmo\n",
    "1. Código\n",
    "1. Ejemplo"
   ]
  },
  {
   "cell_type": "markdown",
   "metadata": {},
   "source": [
    "## 2.1. Factores que afectan la transmisión  ✔\n",
    "* [Atenuación][21_1] - perdida de potencia de la señal.\n",
    "* [Ruido][21_2] - potencias parásitas que afectan la transmisión. \n",
    "* [Eco][21_3] - reflexión de una parte de la potencia original.\n",
    "\n",
    "$$\n",
    "\\alpha = 10 \\cdot log_{2}\\left(\\frac{P_o}{P_i}\\right) \\\\ \n",
    "$$\n",
    "\n",
    "[21_1]:https://es.wikipedia.org/wiki/Atenuación\n",
    "[21_2]:https://es.wikipedia.org/wiki/Ruido_(comunicación)#\n",
    "[21_3]:https://es.wikipedia.org/wiki/P%C3%A9rdida_de_retorno"
   ]
  },
  {
   "cell_type": "code",
   "execution_count": null,
   "metadata": {},
   "outputs": [],
   "source": [
    "# Algoritmos de enrutamiento\n",
    "<p><code>Python en Jupyter Notebook</code></p>\n",
    "<p>Creado por <code>Giancarlo Ortiz</code> para explicar los fundamentos de los <code>Sistemas de comunicaciones</code> en los cursos de telemática y redes de computadores.</p>\n",
    "\n",
    "## Descripción\n",
    "Este algoritmo, también llamado de caminos mínimos, es un método para resolver el problema del camino mas corto.\n",
    "\n",
    "### Agenda\n",
    "1. Grafos\n",
    "1. Algoritmo\n",
    "1. Código\n",
    "1. Ejemplo"
   ]
  }
 ],
 "metadata": {
  "language_info": {
   "name": "python"
  },
  "orig_nbformat": 4
 },
 "nbformat": 4,
 "nbformat_minor": 2
}
