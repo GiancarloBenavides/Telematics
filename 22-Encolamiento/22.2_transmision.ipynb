{
 "cells": [
  {
   "cell_type": "markdown",
   "metadata": {},
   "source": [
    "# Transmisión de señales por un canal de comunicaciones\n",
    "<p><code>Python en Jupyter Notebook</code></p>\n",
    "<p>Creado por <code>Giancarlo Ortiz</code> para explicar los fundamentos de los <code>Sistemas de comunicaciones</code> en los cursos de telemática y redes de computadores.</p>\n",
    "\n",
    "## Descripción\n",
    "Este algoritmo, también llamado de caminos mínimos, es un método para resolver el problema del camino mas corto.\n",
    "\n",
    "### Agenda\n",
    "1. Factores que afectan la transmisión.\n",
    "1. Tasas de transferencia.\n",
    "1. Capacidad del canal."
   ]
  },
  {
   "cell_type": "code",
   "execution_count": 1,
   "metadata": {},
   "outputs": [],
   "source": [
    "# Importar módulos al cuaderno\n",
    "import math as m\n",
    "import matplotlib.pyplot as plt\n",
    "\n",
    "# Importar elementos de un módulo al cuaderno\n",
    "from math import pi\n",
    "from numpy import sin"
   ]
  },
  {
   "cell_type": "markdown",
   "metadata": {},
   "source": [
    "## 1. Factores que afectan la transmisión  ✔\n",
    "\n",
    "### 1.1. La atenuación \n",
    "la [Atenuación][alpha] es perdida de potencia de la señal durante su propagación por el medio, depende de las características del medio y de la frecuencia.\n",
    "\n",
    "\n",
    "[alpha]:https://es.wikipedia.org/wiki/Atenuación\n",
    "\n",
    "#### 1.1.1. Causas:\n",
    "* Absorción del material.\n",
    "* Oposición Transmisión.\n",
    "* Defectos de fabricación.\n",
    "* Deformación del material.\n",
    "\n",
    "#### 1.1.2. Representación:\n",
    "\n",
    "![Representación](../img/attenuation_utp.svg \"Atenuación\")\n",
    "\n",
    "#### 1.1.3. Ecuaciones:\n",
    "$$\n",
    "\\begin{aligned}\n",
    "\\alpha  &= 10 \\cdot log_{10}\\left(\\frac{P_o}{P_i}\\right) \\\\ \n",
    "        &= 20 \\cdot log_{10}\\left(\\frac{V_o}{V_i}\\right) \\\\\n",
    "\\end{aligned}\n",
    "$$"
   ]
  },
  {
   "cell_type": "code",
   "execution_count": 2,
   "metadata": {},
   "outputs": [
    {
     "name": "stdout",
     "output_type": "stream",
     "text": [
      "----------------------------------------\n",
      "Atenuación de voltaje:  -3 dB\n",
      "Voltaje de salida: 3.16 voltios\n",
      "----------------------------------------\n",
      "Atenuación de potencia: -3 dB\n",
      "Voltaje de salida: 0.1 vatios\n",
      "----------------------------------------\n"
     ]
    }
   ],
   "source": [
    "def voltage_attenuation(voltage_out:float, voltage_in:float):\n",
    "    ''' Calcula la atenuación en un medio de txx desde los valores de voltaje de la señal de entrada. '''\n",
    "    return round(20 * m.log10(voltage_out/voltage_in))\n",
    "\n",
    "def voltage_out(decibels:float, voltage_in:float=100):\n",
    "    ''' Calcula el voltaje de salida desde los valores de atenuación de la señal de entrada. '''\n",
    "    return round(voltage_in * (10 ** (decibels/20)), 2)\n",
    "\n",
    "def power_attenuation(power_out:float, power_in:float):\n",
    "    ''' Calcula la atenuación desde los valores de potencia de la señal de entrada. '''\n",
    "    return round(10 * m.log10(power_out/power_in))\n",
    "\n",
    "def power_out(decibels:float, power_in:float=100):\n",
    "    ''' Calcula la potencia de salida desde los valores de atenuación de la señal de entrada. '''\n",
    "    return round(power_in * (10 ** (decibels/10)), 2)\n",
    "\n",
    "# Salida estándar - Formateo de cadenas\n",
    "print(20*\"--\")\n",
    "print(f\"Atenuación de voltaje:  {voltage_attenuation(70.7, 100)} dB\")\n",
    "print(f\"Voltaje de salida: {voltage_out(-30)} voltios\")\n",
    "print(20*\"--\")\n",
    "print(f\"Atenuación de potencia: {power_attenuation(50, 100)} dB\")\n",
    "print(f\"Voltaje de salida: {power_out(-30)} vatios\")\n",
    "print(20*\"--\")"
   ]
  },
  {
   "cell_type": "markdown",
   "metadata": {},
   "source": [
    "### 1.2. El ruido \n",
    "El [Ruido][noise] son las potencias parásitas que afectan la transmisión.\n",
    "\n",
    "[noise]:https://es.wikipedia.org/wiki/Ruido_(comunicación)#\n",
    "\n",
    "#### 1.2.1. relación señal a ruido\n",
    "La [SNR][121] o relación señal/ruido o  se define como la proporción existente entre la potencia de la señal que se transmite y la potencia del ruido que la corrompe.\n",
    "\n",
    "[121]:https://en.wikipedia.org/wiki/Signal-to-noise_ratio\n",
    "\n",
    "$$\n",
    "\\begin{aligned}\n",
    "SNR = \\frac{P_s}{P_n}  &= \\left(\\frac{V_s}{V_n}\\right)^{2} \\\\ \n",
    "     &= 10 \\cdot log_{10}\\left(\\frac{P_s}{P_n}\\right) = 20 \\cdot log_{10}\\left(\\frac{V_s}{V_n}\\right) \\\\\n",
    "\\end{aligned}\n",
    "$$\n"
   ]
  },
  {
   "cell_type": "code",
   "execution_count": 3,
   "metadata": {},
   "outputs": [
    {
     "name": "stdout",
     "output_type": "stream",
     "text": [
      "--------------------------\n",
      "Relación señal a ruido\n",
      "--------------------------\n",
      "SNR voltaje:         318.9\n",
      "SNR potencia:        318.9\n",
      "SNR en dB:           25.00 dB\n",
      "--------------------------\n"
     ]
    }
   ],
   "source": [
    "def snr(señal:float, ruido:float, potencia:bool=True, dB:bool=True)->float:\n",
    "    ''' Calcula la atenuación desde los valores de voltaje o potencia de la señal de entrada. '''\n",
    "    ratio = señal/ruido\n",
    "    lineal = ratio if potencia else ratio**2\n",
    "    snr = round(10 * m.log10(lineal)) if dB else lineal\n",
    "    return snr\n",
    "\n",
    "voltaje_señal = 5\n",
    "voltaje_ruido = 0.28\n",
    "resistencia = 50 \n",
    "potencia_señal = (voltaje_señal**2)/resistencia\n",
    "potencia_ruido = (voltaje_ruido**2)/resistencia\n",
    "\n",
    "# Salida estándar - Formateo de cadenas\n",
    "print(26*\"-\")\n",
    "print(f\"Relación señal a ruido\")\n",
    "print(26*\"-\")\n",
    "print(f\"SNR voltaje:   {snr(voltaje_señal, voltaje_ruido, potencia=False, dB=False):11,.1f}\")\n",
    "print(f\"SNR potencia:  {snr(potencia_señal, potencia_ruido, dB=False):11,.1f}\")\n",
    "print(f\"SNR en dB:     {snr(potencia_señal, potencia_ruido):11,.2f} dB\")\n",
    "print(26*\"-\")"
   ]
  },
  {
   "cell_type": "markdown",
   "metadata": {},
   "source": [
    "### 1.3. El eco\n",
    "El [Eco][21_3] es reflexión de una parte de la potencia original.\n",
    "\n",
    "[21_3]:https://es.wikipedia.org/wiki/P%C3%A9rdida_de_retorno\n",
    "\n",
    "#### 1.3.1. Paradiafonia\n",
    "La diafonía [NEXT][131] o de extremo cercano, denominada en inglés Near end crosstalk es la perturbación de un circuito a la señal de un circuito adyacente, medida en el extremo mas cercano a la fuente y la PSNEXT es una medida NEXT que incluye la suma algebraica de todas las contribuciones de diafonía de los pares adyacentes.\n",
    "\n",
    "[131]:https://es.wikipedia.org/wiki/Diafon%C3%ADa#Paradiafon%C3%ADa\n",
    "\n",
    "![Representación](../img/next.svg \"Paradiafonia\")\n",
    "\n",
    "$$ \\alpha_p = 20 \\cdot log_{10}\\left(\\frac{V_{E}}{V_{I}}\\right) $$\n",
    "\n",
    "\n",
    "#### 1.3.2. Telediafonía\n",
    "La diafonía [FEXT][132] o de extremo lejano, denominada en inglés Far end crosstalk es la perturbación de un circuito a la señal de un circuito adyacente, medida en el extremo mas lejano a la fuente y la PSFEXT es una medida FEXT que incluye la suma algebraica de todas las contribuciones de diafonía de los pares adyacentes\n",
    "\n",
    "[132]:https://es.wikipedia.org/wiki/Diafon%C3%ADa#Telediafon%C3%ADa\n",
    "\n",
    "![Representación](../img/fext.svg \"Telediafonia\")\n",
    "\n",
    "$$ \\alpha_t = 20 \\cdot log_{10}\\left(\\frac{V_{E}}{V_{I}}\\right) $$\n",
    "\n",
    ">Nota: La AXT o Alien crosstalk es una interferencia provocada por otros cables colocados cerca del cable de interés, en contraposición a las señales contenidas en el mismo cable.\n"
   ]
  },
  {
   "cell_type": "markdown",
   "metadata": {},
   "source": [
    "## 2. Tasas de transferencia  ✔\n",
    "Es posible medir el rendimiento un canal de comunicaciones utilizando distintas definiciones; esto es porque la carga útil de mensajes (información) que la red es capaz de transportar por unidad de tiempo depende de la sobrecarga de los distintos protocolos en el modelo de comunicaciones, de las características del medio de transmisión y porque en algunos casos es necesario construir diferentes niveles de redundancia para garantizar una transmisión segura y libre de errores, lo que implica aumentar la sobrecarga de uno o varios protocolos encargados de la codificación y adaptación de la señal al medio.\n",
    "\n",
    "### 2.1. Tasa de transferencia efectiva\n",
    "La [tasa de transferencia efectiva][21_1] o throughput es el volumen de trabajo o de información neto que fluye a través de un sistema o red de computadoras; en esta medida se incluye toda la sobrecarga necesaria en los protocolos necesarios para una transmisión segura y libre de errores.\n",
    "\n",
    "#### 2.1.1. Medidas relacionadas\n",
    "* [Goodput][21_2]: es el rendimiento a nivel de aplicación de una comunicación, excluyendo la sobrecarga del protocolo.\n",
    "* [Capacidad del canal][21_3]: es la medida de los recursos de comunicación teóricos aprovechables de una red telemática.\n",
    "* [Ancho de Banda][21_4]: determina el rango de frecuencias aprovechables para la comunicación de un canal de comunicaciones.\n",
    "\n",
    "#### 2.1.2. Comparación\n",
    "\n",
    "__Goodput__ ([Carga util en bps][21_2]) <code>≤</code> __Throughput__ ([Velocidad real en bps][21_1]) <code>≤</code> __Channel capacity__ ([Capacidad teórica en bps][21_3])\n",
    "\n",
    "![Representación](../img/channel.svg \"Canal de comunicaciones\")\n",
    "\n",
    "[21_1]:https://es.wikipedia.org/wiki/Tasa_de_transferencia_efectiva\n",
    "[21_2]:https://en.wikipedia.org/wiki/Goodput\n",
    "[21_3]:https://es.wikipedia.org/wiki/Capacidad_del_canal\n",
    "[21_4]:https://es.wikipedia.org/wiki/Ancho_de_banda\n",
    "\n",
    "#### 2.1.3. Ejemplo: <code>HTTP</code> \n",
    "Para probar un canal de comunicaciones de 50 MB/s se necesitan un archivo de prueba de al menos 100 MB, que saturara el canal por al menos un segundo:\n",
    "\n",
    "__Consideraciones:__\n",
    "* HTTP 1.0:  Durante la carga de una página web de internet en el navegador, la descarga de cada elemento desde el servidor necesita la apertura y la clausura de una conexión TCP.\n",
    "* HTTP 1.1:  El cliente y servidor pueden intercambiar mensajes sobre la misma conexión TCP.\n",
    "* FTP:  La velocidad neta disponible para el usuario en una aplicación FTP, suele ser entre un 10% y un 15% menor a la velocidad real, debido al ancho de banda consumido por las cabeceras y las colas de los distintos protocolos usados en una transmisión libre de errores.\n",
    "* TCP:  El tamaño de un paquete TCP esta limitado a 1500 bytes"
   ]
  },
  {
   "cell_type": "code",
   "execution_count": 14,
   "metadata": {},
   "outputs": [
    {
     "name": "stdout",
     "output_type": "stream",
     "text": [
      " -----------------------------------------------------------------\n",
      "|                  Eficiencia de Ethernet(tcp/ip)                 |\n",
      " -----------------------------------------------------------------\n",
      "| Protocolo | Tamaño (bits) | Carga util (bits) |  Eficiencia (%) |\n",
      " -----------------------------------------------------------------\n",
      "| TCP/IP    |         1,500 |             1,448 |          96.5 % |\n",
      "| Ethernet  |         1,622 |             1,500 |          92.5 % |\n",
      " -----------------------------------------------------------------\n",
      "| Total     |         1,622 |             1,448 |          89.3 % |\n",
      " -----------------------------------------------------------------\n"
     ]
    }
   ],
   "source": [
    "# tcp/ip\n",
    "bytes_tcp_max = 1500\n",
    "encabezado_tcp = 20\n",
    "encabezado_ip = 20\n",
    "marca_de_tiempo = 12\n",
    "carga_util_tcp = bytes_tcp_max - (encabezado_tcp + encabezado_ip + marca_de_tiempo)\n",
    "eficiencia_tcp = 100*carga_util_tcp/bytes_tcp_max\n",
    "# Ethernet\n",
    "carga_util_eth = bytes_tcp_max\n",
    "encabezado_trama = 26\n",
    "brecha_entre_tramas = 96\n",
    "bytes_eth_max = (encabezado_trama + brecha_entre_tramas) + bytes_tcp_max\n",
    "eficiencia_eth = 100*carga_util_eth/bytes_eth_max\n",
    "# Eficiencia total\n",
    "eficiencia = eficiencia_eth*eficiencia_tcp/100\n",
    "\n",
    "# Salida estándar - Formateo de cadenas\n",
    "lines = 65\n",
    "print(\" \" + lines*\"-\")\n",
    "print(f\"|{'Eficiencia de Ethernet(tcp/ip)'.center(lines)}|\")\n",
    "print(\" \" + lines*\"-\")\n",
    "print(f\"| Protocolo | Tamaño (bits) | Carga util (bits) |  Eficiencia (%) |\")\n",
    "print(\" \" + lines*\"-\")\n",
    "print(f\"| TCP/IP    |{bytes_tcp_max:14,.0f} |{carga_util_tcp:18,.0f} |{eficiencia_tcp:14,.1f} % |\")\n",
    "print(f\"| Ethernet  |{bytes_eth_max:14,.0f} |{carga_util_eth:18,.0f} |{eficiencia_eth:14,.1f} % |\")\n",
    "print(\" \" + lines*\"-\")\n",
    "print(f\"| Total     |{bytes_eth_max:14,.0f} |{carga_util_tcp:18,.0f} |{eficiencia:14,.1f} % |\")\n",
    "print(\" \" + lines*\"-\")\n"
   ]
  },
  {
   "cell_type": "code",
   "execution_count": 65,
   "metadata": {},
   "outputs": [
    {
     "name": "stdout",
     "output_type": "stream",
     "text": [
      "-----------------------------------\n",
      "Tiempo transferencia:         2,321 ms\n",
      "Carga total:                    100 Mbps\n",
      "Throughput:                      48 Mbps\n",
      "Goodput:                         43 Mbps\n",
      "Sobrecarga:                    11.0 %\n",
      "-----------------------------------\n"
     ]
    }
   ],
   "source": [
    "# FTP\n",
    "''' La velocidad neta disponible para el usuario en una aplicación FTP, \n",
    "suele ser entre un 10% y un 15% menor a la velocidad real, \n",
    "debido al ancho de banda consumido por las cabeceras y las colas \n",
    "de los distintos protocolos usados en una transmisión libre de errores.'''\n",
    "tamaño_del_archivo = 100_000_000    # Archivo de prueba.\n",
    "tamaño_de_la_ventana = 4096         # Especifica el tamaño del búfer de transferencia.\n",
    "colisiones = 1                      # Porcentaje de segmentos retransmitidos (1-5).\n",
    "retardo_esperado = 50               # LAN:30µs, FO:10ms, CATV:20ms, ADSL:50ms, Satélite:900ms.\n",
    "tiempo_ms = 2_471\n",
    "\n",
    "# ftp\n",
    "tiempo_comandos_ftp = 3*retardo_esperado\n",
    "ventanas = m.ceil(tamaño_del_archivo/tamaño_de_la_ventana)\n",
    "paquetes_por_ventana = m.ceil(tamaño_de_la_ventana/carga_util_tcp)\n",
    "total_paquetes_tcp = (1+colisiones/100) * paquetes_por_ventana * ventanas\n",
    "\n",
    "# Tasas de transferencia\n",
    "tiempo = (tiempo_ms-tiempo_comandos_ftp)/1_000\n",
    "throughput = (total_paquetes_tcp * bytes_tcp_max) / tiempo\n",
    "goodput = tamaño_del_archivo / tiempo\n",
    "sobrecarga = -100*(1-throughput/goodput)\n",
    "\n",
    "# Salida estándar - Formateo de cadenas\n",
    "lines = 35\n",
    "print(lines*\"-\")\n",
    "print(f\"Tiempo transferencia:   {tiempo*1e3:11,.0f} ms\")\n",
    "print(f\"Carga total:            {tamaño_del_archivo/1e6:11,.0f} Mbps\")\n",
    "print(f\"Throughput:             {throughput/1e6:11,.0f} Mbps\")\n",
    "print(f\"Goodput:                {goodput/1e6:11,.0f} Mbps\")\n",
    "print(f\"Sobrecarga:             {sobrecarga:11,.1f} %\")\n",
    "print(lines*\"-\")"
   ]
  },
  {
   "cell_type": "markdown",
   "metadata": {},
   "source": [
    "### 2.1. Tasa de transferencia de símbolos \n",
    "En un sistema de comunicaciones la [tasa de transferencia de símbolos][21] o Rs es el número de unidades de señal por unidad de tiempo que pueden ser transmitidos desde un emisor hacia el receptor a traves de un canal de comunicaciones.\n",
    "\n",
    "[21]:https://es.wikipedia.org/wiki/Tasa_de_baudios\n",
    "\n",
    "#### 2.2.1 Consideraciones\n",
    "* También llamado [baudrate][221_1].\n",
    "* Define el [número de símbolos][221_2] que se transmiten por unidad de tiempo.\n",
    "* El cambio de estado en [señal digital][221_3] es un símbolo.\n",
    "* Dependiendo de la [modulación][221_4] un símbolo puede representar muchos bits.\n",
    "* Esta limitado por el [ancho de banda][221_5].\n",
    "* Se mide en [Baudio][221_6] (b/s).\n",
    "\n",
    "[221_1]:https://es.wikipedia.org/wiki/Tasa_de_baudios\n",
    "[221_2]:https://es.wikipedia.org/wiki/C%C3%B3digos_en_l%C3%ADnea\n",
    "[221_3]:https://es.wikipedia.org/wiki/Se%C3%B1al_digital\n",
    "[221_4]:https://es.wikipedia.org/wiki/Modulaci%C3%B3n_(telecomunicaci%C3%B3n)/\n",
    "[221_5]:https://es.wikipedia.org/wiki/Ancho_de_banda_(inform%C3%A1tica)/\n",
    "[221_6]:https://es.wikipedia.org/wiki/Baudio\n",
    "\n",
    "\n",
    "#### 2.2.2. Tasa de transferencia binaria (Rb) ✔\n",
    "* También llamado [bitrate][222_1].\n",
    "* Define el número de bits que se transmiten por unidad de tiempo.\n",
    "* Depende de la [codificación del canal][222_2] y el ancho de banda.\n",
    "* Debe ser menor a la capacidad del canal.\n",
    "* Se mide en [bits por segundo][222_6] (b/s). \n",
    "\n",
    "[222_1]:https://es.wikipedia.org/wiki/Tasa_de_bits\n",
    "[222_2]:https://es.wikipedia.org/wiki/C%C3%B3digo_de_canal\n",
    "[222_6]:https://es.wikipedia.org/wiki/Bits_por_segundo"
   ]
  },
  {
   "cell_type": "code",
   "execution_count": 67,
   "metadata": {},
   "outputs": [
    {
     "data": {
      "text/plain": [
       "1000.0"
      ]
     },
     "execution_count": 67,
     "metadata": {},
     "output_type": "execute_result"
    }
   ],
   "source": [
    "# Gigabit Ethernet 1000Base-T \n",
    "# Line code TCM 4D-PAM-5\n",
    "carriles = 4\n",
    "cambios_señal = 5       # Símbolos (niveles)\n",
    "simbolos = 5\n",
    "ancho_de_banda = 62.5\n",
    "\n",
    "\n",
    "\n",
    "rendimiento_por_carril = 4\n",
    "throughput = rendimiento_por_carril * carriles * ancho_de_banda\n",
    "throughput"
   ]
  },
  {
   "cell_type": "markdown",
   "metadata": {},
   "source": [
    "## 3. Capacidad del canal  ✔\n",
    "El [Ruido][noise] son las potencias parásitas que afectan la transmisión.\n",
    "\n",
    "[noise]:https://es.wikipedia.org/wiki/Ruido_(comunicación)#\n",
    "\n",
    "### 3.1. Consideraciones\n",
    "* Maxima [información][22_1] que un canal puede transmitir de forma fiable.\n",
    "* Fiable significa que la [probabilidad de error][22_2] es despreciable. \n",
    "* Está limitada por su [relación señal a ruido][22_4] (SNR) y el ancho de banda.\n",
    "* Se calcula empleando el [teorema de Shannon-Hartley][22_5].\n",
    "* Se mide en [bits por segundo][22_6] (b/s). \n",
    "\n",
    "[22_1]:https://es.wikipedia.org/wiki/Informaci%C3%B3n\n",
    "[22_2]:https://es.wikipedia.org/wiki/Teorema_de_Shannon-Hartley\n",
    "\n",
    "[22_4]:https://es.wikipedia.org/wiki/Relaci%C3%B3n_se%C3%B1al/ruido\n",
    "[22_5]:https://es.wikipedia.org/wiki/Teorema_de_Shannon-Hartley\n",
    "[22_6]:https://es.wikipedia.org/wiki/Bits_por_segundo\n",
    "\n",
    "### 3.2. Ecuaciones de Shannon - Hartley\n",
    "\n",
    "$$\n",
    "\\begin{aligned}\n",
    "C = B \\cdot log_{2}\\left(1+SNR\\right) &= B \\cdot log_{2}\\left(1+ \\frac{P_S}{P_N}\\right) \\\\\n",
    "&= B \\cdot log_{2}\\left(1+ \\frac{E_b \\cdot R_b}{N_o \\cdot B}\\right) \\\\ \n",
    "\\end{aligned}\n",
    "$$\n",
    "\n",
    "### 3.3. Representación\n",
    "\n",
    "![Representación](../img/channel_capacity.svg \"Ca\")"
   ]
  },
  {
   "cell_type": "code",
   "execution_count": 6,
   "metadata": {},
   "outputs": [
    {
     "name": "stdout",
     "output_type": "stream",
     "text": [
      "------------------------------------------------------------------------\n",
      "|  Color de la Luz | FRECUENCIA | LONGITUD ONDA |  ENERGÍA  | POTENCIA |\n",
      "------------------------------------------------------------------------\n",
      "|       Infrarrojo |   3.37e+14 |     8.90e-07  |  2.29e-19 | 8.24e-16 |\n",
      "|             Rojo |   4.70e+14 |     6.38e-07  |  3.19e-19 | 1.15e-15 |\n",
      "|         Amarillo |   4.96e+14 |     6.04e-07  |  3.37e-19 | 1.21e-15 |\n",
      "|            Verde |   5.81e+14 |     5.16e-07  |  3.94e-19 | 1.42e-15 |\n",
      "|             Azul |   6.41e+14 |     4.68e-07  |  4.35e-19 | 1.57e-15 |\n",
      "|          Violeta |   7.44e+14 |     4.03e-07  |  5.05e-19 | 1.82e-15 |\n",
      "------------------------------------------------------------------------\n"
     ]
    }
   ],
   "source": [
    "Vc = 299_792_458        # Velocidad de la luz [m.s]\n",
    "Kp = 6.79e-34           # Constante de Plank [J.s]\n",
    "\n",
    "# Diccionario de frecuencias de la luz en Thz\n",
    "frecuencias = {\"Infrarrojo\":337, \"Rojo\":470, \"Amarillo\":496, \"Verde\":581, \"Azul\": 641, \"Violeta\":744}\n",
    "\n",
    "print(f\"------------------------------------------------------------------------\")\n",
    "print(f\"|  Color de la Luz | FRECUENCIA | LONGITUD ONDA |  ENERGÍA  | POTENCIA |\")\n",
    "print(f\"------------------------------------------------------------------------\")\n",
    "for key in frecuencias:\n",
    "    color = key\n",
    "    f = frecuencias[key] * 1e12\n",
    "    λ = Vc / f\n",
    "    e = Kp * f\n",
    "    p = 3600 * e\n",
    "    print(f\"|       {color:>10} | {f:10.2e} |  {λ:11.2e}  |  {e:7.2e} | {p:7.2e} |\")\n",
    "\n",
    "print(f\"------------------------------------------------------------------------\")"
   ]
  },
  {
   "cell_type": "markdown",
   "metadata": {},
   "source": [
    "---\n",
    "## Mas Recursos\n",
    "- [Ancho de banda](https://es.wikipedia.org/wiki/Ancho_de_banda) (Wikipedia)\n",
    "- [Producto: retardo * ancho de banda](https://en.wikipedia.org/wiki/Bandwidth-delay_product) (Wikipedia)\n",
    "- [Ethernet](https://es.wikipedia.org/wiki/Ethernet) (Wikipedia)\n",
    "- [HTTP](https://es.wikipedia.org/wiki/Protocolo_de_transferencia_de_hipertexto) (Wikipedia)\n"
   ]
  }
 ],
 "metadata": {
  "kernelspec": {
   "display_name": "Python 3",
   "language": "python",
   "name": "python3"
  },
  "language_info": {
   "codemirror_mode": {
    "name": "ipython",
    "version": 3
   },
   "file_extension": ".py",
   "mimetype": "text/x-python",
   "name": "python",
   "nbconvert_exporter": "python",
   "pygments_lexer": "ipython3",
   "version": "3.11.3"
  },
  "orig_nbformat": 4
 },
 "nbformat": 4,
 "nbformat_minor": 2
}
