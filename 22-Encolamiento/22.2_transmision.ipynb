{
 "cells": [
  {
   "cell_type": "markdown",
   "metadata": {},
   "source": [
    "# Transmisión de señales por un canal de comunicaciones\n",
    "<p><code>Python en Jupyter Notebook</code></p>\n",
    "<p>Creado por <code>Giancarlo Ortiz</code> para explicar los fundamentos de los <code>Sistemas de comunicaciones</code> en los cursos de telemática y redes de computadores.</p>\n",
    "\n",
    "## Descripción\n",
    "Este algoritmo, también llamado de caminos mínimos, es un método para resolver el problema del camino mas corto.\n",
    "\n",
    "### Agenda\n",
    "1. Factores que afectan la transmisión.\n",
    "1. Tasas de transferencia.\n",
    "1. Capacidad del canal."
   ]
  },
  {
   "cell_type": "code",
   "execution_count": 1,
   "metadata": {},
   "outputs": [],
   "source": [
    "# Importar módulos al cuaderno\n",
    "import math as m\n",
    "import matplotlib.pyplot as plt\n",
    "\n",
    "# Importar elementos de un módulo al cuaderno\n",
    "from math import pi\n",
    "from numpy import sin"
   ]
  },
  {
   "cell_type": "markdown",
   "metadata": {},
   "source": [
    "## 1. Factores que afectan la transmisión  ✔\n",
    "\n",
    "### 1.1. La atenuación \n",
    "la [Atenuación][alpha] es perdida de potencia de la señal durante su propagación por el medio, depende de las características del medio y de la frecuencia.\n",
    "\n",
    "\n",
    "[alpha]:https://es.wikipedia.org/wiki/Atenuación\n",
    "\n",
    "#### 1.1.1. Causas:\n",
    "* Absorción del material.\n",
    "* Oposición Transmisión.\n",
    "* Defectos de fabricación.\n",
    "* Deformación del material.\n",
    "\n",
    "#### 1.1.2. Representación:\n",
    "\n",
    "![Representación](../img/attenuation_utp.svg \"Atenuación\")\n",
    "\n",
    "#### 1.1.3. Ecuaciones:\n",
    "$$\n",
    "\\begin{aligned}\n",
    "\\alpha  &= 10 \\cdot log_{10}\\left(\\frac{P_o}{P_i}\\right) \\\\ \n",
    "        &= 20 \\cdot log_{10}\\left(\\frac{V_o}{V_i}\\right) \\\\\n",
    "\\end{aligned}\n",
    "$$"
   ]
  },
  {
   "cell_type": "code",
   "execution_count": 2,
   "metadata": {},
   "outputs": [
    {
     "name": "stdout",
     "output_type": "stream",
     "text": [
      "----------------------------------------\n",
      "Atenuación de voltaje:  -3 dB\n",
      "Voltaje de salida: 3.16 voltios\n",
      "----------------------------------------\n",
      "Atenuación de potencia: -3 dB\n",
      "Voltaje de salida: 0.1 vatios\n",
      "----------------------------------------\n"
     ]
    }
   ],
   "source": [
    "def voltage_attenuation(voltage_out:float, voltage_in:float):\n",
    "    ''' Calcula la atenuación en un medio de txx desde los valores de voltaje de la señal de entrada. '''\n",
    "    return round(20 * m.log10(voltage_out/voltage_in))\n",
    "\n",
    "def voltage_out(decibels:float, voltage_in:float=100):\n",
    "    ''' Calcula el voltaje de salida desde los valores de atenuación de la señal de entrada. '''\n",
    "    return round(voltage_in * (10 ** (decibels/20)), 2)\n",
    "\n",
    "def power_attenuation(power_out:float, power_in:float):\n",
    "    ''' Calcula la atenuación desde los valores de potencia de la señal de entrada. '''\n",
    "    return round(10 * m.log10(power_out/power_in))\n",
    "\n",
    "def power_out(decibels:float, power_in:float=100):\n",
    "    ''' Calcula la potencia de salida desde los valores de atenuación de la señal de entrada. '''\n",
    "    return round(power_in * (10 ** (decibels/10)), 2)\n",
    "\n",
    "\n",
    "print(20*\"--\")\n",
    "print(f\"Atenuación de voltaje:  {voltage_attenuation(70.7, 100)} dB\")\n",
    "print(f\"Voltaje de salida: {voltage_out(-30)} voltios\")\n",
    "print(20*\"--\")\n",
    "print(f\"Atenuación de potencia: {power_attenuation(50, 100)} dB\")\n",
    "print(f\"Voltaje de salida: {power_out(-30)} vatios\")\n",
    "print(20*\"--\")"
   ]
  },
  {
   "cell_type": "markdown",
   "metadata": {},
   "source": [
    "### 1.2. El ruido \n",
    "El [Ruido][noise] son las potencias parásitas que afectan la transmisión.\n",
    "\n",
    "[noise]:https://es.wikipedia.org/wiki/Ruido_(comunicación)#\n",
    "\n",
    "#### 1.2.1. relación señal a ruido\n",
    "La [SNR][121] o relación señal/ruido o  se define como la proporción existente entre la potencia de la señal que se transmite y la potencia del ruido que la corrompe.\n",
    "\n",
    "[121]:https://en.wikipedia.org/wiki/Signal-to-noise_ratio\n",
    "\n",
    "$$\n",
    "\\begin{aligned}\n",
    "SNR = \\frac{P_s}{P_n}  &= \\left(\\frac{V_s}{V_n}\\right)^{2} \\\\ \n",
    "     &= 10 \\cdot log_{10}\\left(\\frac{P_s}{P_n}\\right) = 20 \\cdot log_{10}\\left(\\frac{V_s}{V_n}\\right) \\\\\n",
    "\\end{aligned}\n",
    "$$\n"
   ]
  },
  {
   "cell_type": "code",
   "execution_count": 3,
   "metadata": {},
   "outputs": [
    {
     "name": "stdout",
     "output_type": "stream",
     "text": [
      "--------------------------\n",
      "Relación señal a ruido\n",
      "--------------------------\n",
      "SNR voltaje:         318.9\n",
      "SNR potencia:        318.9\n",
      "SNR en dB:           25.00 dB\n",
      "--------------------------\n"
     ]
    }
   ],
   "source": [
    "def snr(señal:float, ruido:float, potencia:bool=True, dB:bool=True)->float:\n",
    "    ''' Calcula la atenuación desde los valores de voltaje o potencia de la señal de entrada. '''\n",
    "    ratio = señal/ruido\n",
    "    lineal = ratio if potencia else ratio**2\n",
    "    snr = round(10 * m.log10(lineal)) if dB else lineal\n",
    "    return snr\n",
    "\n",
    "voltaje_señal = 5\n",
    "voltaje_ruido = 0.28\n",
    "resistencia = 50 \n",
    "potencia_señal = (voltaje_señal**2)/resistencia\n",
    "potencia_ruido = (voltaje_ruido**2)/resistencia\n",
    "\n",
    "print(26*\"-\")\n",
    "print(f\"Relación señal a ruido\")\n",
    "print(26*\"-\")\n",
    "print(f\"SNR voltaje:   {snr(voltaje_señal, voltaje_ruido, potencia=False, dB=False):11,.1f}\")\n",
    "print(f\"SNR potencia:  {snr(potencia_señal, potencia_ruido, dB=False):11,.1f}\")\n",
    "print(f\"SNR en dB:     {snr(potencia_señal, potencia_ruido):11,.2f} dB\")\n",
    "print(26*\"-\")"
   ]
  },
  {
   "cell_type": "markdown",
   "metadata": {},
   "source": [
    "### 1.3. El eco\n",
    "El [Eco][21_3] es reflexión de una parte de la potencia original.\n",
    "\n",
    "[21_3]:https://es.wikipedia.org/wiki/P%C3%A9rdida_de_retorno\n",
    "\n",
    "#### 1.3.1. Paradiafonia\n",
    "La diafonía [NEXT][131] o de extremo cercano, denominada en inglés Near end crosstalk es la perturbación de un circuito a la señal de un circuito adyacente, medida en el extremo mas cercano a la fuente y la PSNEXT es una medida NEXT que incluye la suma algebraica de todas las contribuciones de diafonía de los pares adyacentes.\n",
    "\n",
    "[131]:https://es.wikipedia.org/wiki/Diafon%C3%ADa#Paradiafon%C3%ADa\n",
    "\n",
    "![Representación](../img/next.svg \"Paradiafonia\")\n",
    "\n",
    "$$ \\alpha_p = 20 \\cdot log_{10}\\left(\\frac{V_{E}}{V_{I}}\\right) $$\n",
    "\n",
    "\n",
    "#### 1.3.2. Telediafonía\n",
    "La diafonía [FEXT][132] o de extremo lejano, denominada en inglés Far end crosstalk es la perturbación de un circuito a la señal de un circuito adyacente, medida en el extremo mas lejano a la fuente y la PSFEXT es una medida FEXT que incluye la suma algebraica de todas las contribuciones de diafonía de los pares adyacentes\n",
    "\n",
    "[132]:https://es.wikipedia.org/wiki/Diafon%C3%ADa#Telediafon%C3%ADa\n",
    "\n",
    "![Representación](../img/fext.svg \"Telediafonia\")\n",
    "\n",
    "$$ \\alpha_t = 20 \\cdot log_{10}\\left(\\frac{V_{E}}{V_{I}}\\right) $$\n",
    "\n",
    ">Nota: La AXT o Alien crosstalk es una interferencia provocada por otros cables colocados cerca del cable de interés, en contraposición a las señales contenidas en el mismo cable.\n"
   ]
  },
  {
   "cell_type": "markdown",
   "metadata": {},
   "source": [
    "## 2. Tasas de transferencia  ✔\n",
    "Es posible medir el rendimiento un canal de comunicaciones utilizando distintas definiciones; esto es porque la carga útil de mensajes (información) que la red es capaz de transportar por unidad de tiempo depende de la sobrecarga de los distintos protocolos en el modelo de comunicaciones, de las características del medio de transmisión y porque en algunos casos es necesario construir diferentes niveles de redundancia para garantizar una transmisión segura y libre de errores, lo que implica aumentar la sobrecarga de uno o varios protocolos encargados de la codificación y adaptación de la señal al medio.\n",
    "\n",
    "### 2.1. Tasa de transferencia efectiva\n",
    "La [tasa de transferencia efectiva][21_1] o throughput es el volumen de trabajo o de información neto que fluye a través de un sistema o red de computadoras; en esta medida se incluye toda la sobrecarga necesaria en los protocolos necesarios para una transmisión segura y libre de errores.\n",
    "\n",
    "* [Goodput][21_2]: es el rendimiento a nivel de aplicación de una comunicación, excluyendo la sobrecarga del protocolo.\n",
    "* [Capacidad del canal][21_3]: es la medida de los recursos de comunicación teóricos aprovechables de una red telemática.\n",
    "\n",
    "<p align=\"center\">\n",
    "\n",
    "__Goodput__ ([Carga util en bps][21_2]) <code>≤</code> __Throughput__ ([Velocidad real en bps][21_1]) <code>≤</code> __Channel capacity__ ([Capacidad teórica en bps][21_3])\n",
    "\n",
    "</p>\n",
    "\n",
    "[21_1]:https://es.wikipedia.org/wiki/Tasa_de_transferencia_efectiva\n",
    "[21_2]:https://en.wikipedia.org/wiki/Goodput\n",
    "[21_3]:https://es.wikipedia.org/wiki/Ancho_de_banda\n",
    "\n",
    "### 2.2. Tasa de transferencia de Símbolos (Rs)\n",
    "* También llamado [baudrate][22_1].\n",
    "* Define el [número de símbolos][22_2] que se transmiten por unidad de tiempo.\n",
    "* El cambio de estado en [señal digital][22_3] es un símbolo.\n",
    "* Dependiendo de la [modulación][22_4] un símbolo puede representar muchos bits.\n",
    "* Esta limitado por el [ancho de banda][22_5].\n",
    "* Se mide en [Baudio][22_6] (b/s).\n",
    "\n",
    "[22_1]:https://es.wikipedia.org/wiki/Tasa_de_baudios\n",
    "[22_2]:https://es.wikipedia.org/wiki/C%C3%B3digos_en_l%C3%ADnea\n",
    "[22_3]:https://es.wikipedia.org/wiki/Se%C3%B1al_digital\n",
    "[22_4]:https://es.wikipedia.org/wiki/Modulaci%C3%B3n_(telecomunicaci%C3%B3n)/\n",
    "[22_5]:https://es.wikipedia.org/wiki/Ancho_de_banda_(inform%C3%A1tica)/\n",
    "[22_6]:https://es.wikipedia.org/wiki/Baudio\n",
    "\n",
    "\n",
    "## 2.3. Tasa de transferencia binaria (Rb) ✔\n",
    "* También llamado [bitrate][23_1].\n",
    "* Define el número de bits que se transmiten por unidad de tiempo.\n",
    "* Depende de la [codificación del canal][23_2] y el ancho de banda.\n",
    "* Debe ser menor a la capacidad del canal.\n",
    "* Se mide en [bits por segundo][22_6] (b/s). \n",
    "\n",
    "..\n",
    "* Debe ser menor a la capacidad del canal.\n",
    "\n",
    "[23_1]:https://es.wikipedia.org/wiki/Tasa_de_bits\n",
    "[23_2]:https://es.wikipedia.org/wiki/C%C3%B3digo_de_canal\n",
    "\n",
    "## 2.3. Tasa de transferencia binaria (Rb) ✔\n",
    "* También llamado [bitrate][23_1].\n",
    "* Define el número de bits que se transmiten por unidad de tiempo.\n",
    "* Depende de la [codificación del canal][23_2] y el ancho de banda.\n",
    "* Debe ser menor a la capacidad del canal.\n",
    "* Se mide en [bits por segundo][22_6] (b/s). \n",
    "\n",
    "diferentes forma en la transmisión de información desde un emisor hacia el receptor en ,"
   ]
  },
  {
   "cell_type": "code",
   "execution_count": 7,
   "metadata": {},
   "outputs": [
    {
     "name": "stdout",
     "output_type": "stream",
     "text": [
      "------------------------------------------------------------------------\n",
      "|  Color de la Luz | FRECUENCIA | LONGITUD ONDA |  ENERGÍA  | POTENCIA |\n",
      "------------------------------------------------------------------------\n",
      "|       Infrarrojo |   3.37e+14 |     8.90e-07  |  2.29e-19 | 8.24e-16 |\n",
      "|             Rojo |   4.70e+14 |     6.38e-07  |  3.19e-19 | 1.15e-15 |\n",
      "|         Amarillo |   4.96e+14 |     6.04e-07  |  3.37e-19 | 1.21e-15 |\n",
      "|            Verde |   5.81e+14 |     5.16e-07  |  3.94e-19 | 1.42e-15 |\n",
      "|             Azul |   6.41e+14 |     4.68e-07  |  4.35e-19 | 1.57e-15 |\n",
      "|          Violeta |   7.44e+14 |     4.03e-07  |  5.05e-19 | 1.82e-15 |\n",
      "------------------------------------------------------------------------\n"
     ]
    }
   ],
   "source": [
    "Vc = 299_792_458        # Velocidad de la luz [m.s]\n",
    "Kp = 6.79e-34           # Constante de Plank [J.s]\n",
    "\n",
    "# Diccionario de frecuencias de la luz en Thz\n",
    "frecuencias = {\"Infrarrojo\":337, \"Rojo\":470, \"Amarillo\":496, \"Verde\":581, \"Azul\": 641, \"Violeta\":744}\n",
    "\n",
    "print(f\"------------------------------------------------------------------------\")\n",
    "print(f\"|  Color de la Luz | FRECUENCIA | LONGITUD ONDA |  ENERGÍA  | POTENCIA |\")\n",
    "print(f\"------------------------------------------------------------------------\")\n",
    "for key in frecuencias:\n",
    "    color = key\n",
    "    f = frecuencias[key] * 1e12\n",
    "    λ = Vc / f\n",
    "    e = Kp * f\n",
    "    p = 3600 * e\n",
    "    print(f\"|       {color:>10} | {f:10.2e} |  {λ:11.2e}  |  {e:7.2e} | {p:7.2e} |\")\n",
    "\n",
    "print(f\"------------------------------------------------------------------------\")"
   ]
  },
  {
   "cell_type": "code",
   "execution_count": null,
   "metadata": {},
   "outputs": [],
   "source": []
  },
  {
   "cell_type": "markdown",
   "metadata": {},
   "source": [
    "## 1. Capacidad del canal  ✔\n",
    "El [Ruido][noise] son las potencias parásitas que afectan la transmisión.\n",
    "\n",
    "[noise]:https://es.wikipedia.org/wiki/Ruido_(comunicación)#\n",
    "\n",
    "#### 1.2.1. relación señal a ruido"
   ]
  }
 ],
 "metadata": {
  "kernelspec": {
   "display_name": "Python 3",
   "language": "python",
   "name": "python3"
  },
  "language_info": {
   "codemirror_mode": {
    "name": "ipython",
    "version": 3
   },
   "file_extension": ".py",
   "mimetype": "text/x-python",
   "name": "python",
   "nbconvert_exporter": "python",
   "pygments_lexer": "ipython3",
   "version": "3.11.3"
  },
  "orig_nbformat": 4
 },
 "nbformat": 4,
 "nbformat_minor": 2
}
