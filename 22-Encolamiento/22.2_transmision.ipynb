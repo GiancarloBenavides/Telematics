{
 "cells": [
  {
   "cell_type": "markdown",
   "metadata": {},
   "source": [
    "# Transmisión de señales por un canal de comunicaciones\n",
    "<p><code>Python en Jupyter Notebook</code></p>\n",
    "<p>Creado por <code>Giancarlo Ortiz</code> para explicar los fundamentos de los <code>Sistemas de comunicaciones</code> en los cursos de telemática y redes de computadores.</p>\n",
    "\n",
    "## Descripción\n",
    "Este algoritmo, también llamado de caminos mínimos, es un método para resolver el problema del camino mas corto.\n",
    "\n",
    "### Agenda\n",
    "1. Factores que afectan la transmisión.\n",
    "1. Tasas de transferencia.\n",
    "1. Capacidad del canal."
   ]
  },
  {
   "cell_type": "code",
   "execution_count": 1,
   "metadata": {},
   "outputs": [],
   "source": [
    "# Importar módulos al cuaderno\n",
    "import math as m\n",
    "import matplotlib.pyplot as plt\n",
    "\n",
    "# Importar elementos de un módulo al cuaderno\n",
    "from math import pi\n",
    "from numpy import sin"
   ]
  },
  {
   "cell_type": "markdown",
   "metadata": {},
   "source": [
    "## 1. Factores que afectan la transmisión  ✔\n",
    "\n",
    "### 1.1. La atenuación \n",
    "la [Atenuación][alpha] es perdida de potencia de la señal durante su propagación por el medio, depende de las características del medio y de la frecuencia.\n",
    "\n",
    "\n",
    "[alpha]:https://es.wikipedia.org/wiki/Atenuación\n",
    "\n",
    "#### 1.1.1. Causas:\n",
    "* Absorción del material.\n",
    "* Oposición Transmisión.\n",
    "* Defectos de fabricación.\n",
    "* Deformación del material.\n",
    "\n",
    "#### 1.1.2. Representación:\n",
    "\n",
    "![Representación](../img/attenuation_utp.svg \"Atenuación\")\n",
    "\n",
    "#### 1.1.3. Ecuaciones:\n",
    "$$\n",
    "\\begin{aligned}\n",
    "\\alpha  &= 10 \\cdot log_{10}\\left(\\frac{P_o}{P_i}\\right) \\\\ \n",
    "        &= 20 \\cdot log_{10}\\left(\\frac{V_o}{V_i}\\right) \\\\\n",
    "\\end{aligned}\n",
    "$$"
   ]
  },
  {
   "cell_type": "code",
   "execution_count": 2,
   "metadata": {},
   "outputs": [
    {
     "name": "stdout",
     "output_type": "stream",
     "text": [
      "----------------------------------------\n",
      "Atenuación de voltaje:  -3 dB\n",
      "Voltaje de salida: 3.16 voltios\n",
      "----------------------------------------\n",
      "Atenuación de potencia: -3 dB\n",
      "Voltaje de salida: 0.1 vatios\n",
      "----------------------------------------\n"
     ]
    }
   ],
   "source": [
    "def voltage_attenuation(voltage_out:float, voltage_in:float):\n",
    "    ''' Calcula la atenuación en un medio de txx desde los valores de voltaje de la señal de entrada. '''\n",
    "    return round(20 * m.log10(voltage_out/voltage_in))\n",
    "\n",
    "def voltage_out(decibels:float, voltage_in:float=100):\n",
    "    ''' Calcula el voltaje de salida desde los valores de atenuación de la señal de entrada. '''\n",
    "    return round(voltage_in * (10 ** (decibels/20)), 2)\n",
    "\n",
    "def power_attenuation(power_out:float, power_in:float):\n",
    "    ''' Calcula la atenuación desde los valores de potencia de la señal de entrada. '''\n",
    "    return round(10 * m.log10(power_out/power_in))\n",
    "\n",
    "def power_out(decibels:float, power_in:float=100):\n",
    "    ''' Calcula la potencia de salida desde los valores de atenuación de la señal de entrada. '''\n",
    "    return round(power_in * (10 ** (decibels/10)), 2)\n",
    "\n",
    "\n",
    "print(20*\"--\")\n",
    "print(f\"Atenuación de voltaje:  {voltage_attenuation(70.7, 100)} dB\")\n",
    "print(f\"Voltaje de salida: {voltage_out(-30)} voltios\")\n",
    "print(20*\"--\")\n",
    "print(f\"Atenuación de potencia: {power_attenuation(50, 100)} dB\")\n",
    "print(f\"Voltaje de salida: {power_out(-30)} vatios\")\n",
    "print(20*\"--\")"
   ]
  },
  {
   "cell_type": "markdown",
   "metadata": {},
   "source": [
    "### 1.2. El ruido \n",
    "El [Ruido][noise] son las potencias parásitas que afectan la transmisión.\n",
    "\n",
    "[noise]:https://es.wikipedia.org/wiki/Ruido_(comunicación)#\n",
    "\n",
    "#### 1.2.1. relación señal a ruido\n",
    "La [SNR][121] o relación señal/ruido o  se define como la proporción existente entre la potencia de la señal que se transmite y la potencia del ruido que la corrompe.\n",
    "\n",
    "[121]:https://en.wikipedia.org/wiki/Signal-to-noise_ratio\n",
    "\n",
    "$$\n",
    "\\begin{aligned}\n",
    "SNR = \\frac{P_s}{P_n}  &= \\left(\\frac{V_s}{V_n}\\right)^{2} \\\\ \n",
    "     &= 10 \\cdot log_{10}\\left(\\frac{P_s}{P_n}\\right) = 20 \\cdot log_{10}\\left(\\frac{V_s}{V_n}\\right) \\\\\n",
    "\\end{aligned}\n",
    "$$\n"
   ]
  },
  {
   "cell_type": "code",
   "execution_count": 3,
   "metadata": {},
   "outputs": [
    {
     "name": "stdout",
     "output_type": "stream",
     "text": [
      "--------------------------\n",
      "Relación señal a ruido\n",
      "--------------------------\n",
      "SNR voltaje:         318.9\n",
      "SNR potencia:        318.9\n",
      "SNR en dB:           25.00 dB\n",
      "--------------------------\n"
     ]
    }
   ],
   "source": [
    "def snr(señal:float, ruido:float, potencia:bool=True, dB:bool=True)->float:\n",
    "    ''' Calcula la atenuación desde los valores de voltaje o potencia de la señal de entrada. '''\n",
    "    ratio = señal/ruido\n",
    "    lineal = ratio if potencia else ratio**2\n",
    "    snr = round(10 * m.log10(lineal)) if dB else lineal\n",
    "    return snr\n",
    "\n",
    "voltaje_señal = 5\n",
    "voltaje_ruido = 0.28\n",
    "resistencia = 50 \n",
    "potencia_señal = (voltaje_señal**2)/resistencia\n",
    "potencia_ruido = (voltaje_ruido**2)/resistencia\n",
    "\n",
    "print(26*\"-\")\n",
    "print(f\"Relación señal a ruido\")\n",
    "print(26*\"-\")\n",
    "print(f\"SNR voltaje:   {snr(voltaje_señal, voltaje_ruido, potencia=False, dB=False):11,.1f}\")\n",
    "print(f\"SNR potencia:  {snr(potencia_señal, potencia_ruido, dB=False):11,.1f}\")\n",
    "print(f\"SNR en dB:     {snr(potencia_señal, potencia_ruido):11,.2f} dB\")\n",
    "print(26*\"-\")"
   ]
  },
  {
   "cell_type": "markdown",
   "metadata": {},
   "source": [
    "### 1.3. El eco\n",
    "El [Eco][21_3] es reflexión de una parte de la potencia original.\n",
    "\n",
    "[21_3]:https://es.wikipedia.org/wiki/P%C3%A9rdida_de_retorno\n",
    "\n",
    "#### 1.3.1. Paradiafonia\n",
    "La diafonía [NEXT][131] o de extremo cercano, denominada en inglés Near end crosstalk es la perturbación de un circuito a la señal de un circuito adyacente, medida en el extremo mas cercano a la fuente y la PSNEXT es una medida NEXT que incluye la suma algebraica de todas las contribuciones de diafonía de los pares adyacentes.\n",
    "\n",
    "[131]:https://es.wikipedia.org/wiki/Diafon%C3%ADa#Paradiafon%C3%ADa\n",
    "\n",
    "![Representación](../img/next.svg \"Paradiafonia\")\n",
    "\n",
    "$$ \\alpha_p = 20 \\cdot log_{10}\\left(\\frac{V_{E}}{V_{I}}\\right) $$\n",
    "\n",
    "\n",
    "#### 1.3.2. Telediafonía\n",
    "La diafonía [FEXT][132] o de extremo lejano, denominada en inglés Far end crosstalk es la perturbación de un circuito a la señal de un circuito adyacente, medida en el extremo mas lejano a la fuente y la PSFEXT es una medida FEXT que incluye la suma algebraica de todas las contribuciones de diafonía de los pares adyacentes\n",
    "\n",
    "[132]:https://es.wikipedia.org/wiki/Diafon%C3%ADa#Telediafon%C3%ADa\n",
    "\n",
    "![Representación](../img/fext.svg \"Telediafonia\")\n",
    "\n",
    "$$ \\alpha_t = 20 \\cdot log_{10}\\left(\\frac{V_{E}}{V_{I}}\\right) $$\n",
    "\n",
    ">Nota: La AXT o Alien crosstalk es una interferencia provocada por otros cables colocados cerca del cable de interés, en contraposición a las señales contenidas en el mismo cable.\n"
   ]
  }
 ],
 "metadata": {
  "kernelspec": {
   "display_name": "Python 3",
   "language": "python",
   "name": "python3"
  },
  "language_info": {
   "codemirror_mode": {
    "name": "ipython",
    "version": 3
   },
   "file_extension": ".py",
   "mimetype": "text/x-python",
   "name": "python",
   "nbconvert_exporter": "python",
   "pygments_lexer": "ipython3",
   "version": "3.11.3"
  },
  "orig_nbformat": 4
 },
 "nbformat": 4,
 "nbformat_minor": 2
}
