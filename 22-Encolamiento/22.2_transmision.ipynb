{
 "cells": [
  {
   "cell_type": "markdown",
   "metadata": {},
   "source": [
    "# Transmisión de señales por un canal de comunicaciones\n",
    "<p><code>Python en Jupyter Notebook</code></p>\n",
    "<p>Creado por <code>Giancarlo Ortiz</code> para explicar los fundamentos de los <code>Sistemas de comunicaciones</code> en los cursos de telemática y redes de computadores.</p>\n",
    "\n",
    "## Descripción\n",
    "Este algoritmo, también llamado de caminos mínimos, es un método para resolver el problema del camino mas corto.\n",
    "\n",
    "### Agenda\n",
    "1. Grafos\n",
    "1. Algoritmo\n",
    "1. Código\n",
    "1. Ejemplo"
   ]
  },
  {
   "cell_type": "code",
   "execution_count": 4,
   "metadata": {},
   "outputs": [],
   "source": [
    "# Importar módulos al cuaderno\n",
    "import math as m\n",
    "import matplotlib.pyplot as plt\n",
    "\n",
    "# Importar elementos de un módulo al cuaderno\n",
    "from math import pi\n",
    "from numpy import sin"
   ]
  },
  {
   "cell_type": "markdown",
   "metadata": {},
   "source": [
    "## 1. Factores que afectan la transmisión  ✔\n",
    "\n",
    "### 1.1. La atenuación \n",
    "la [Atenuación][alpha] es perdida de potencia de la señal.\n",
    "\n",
    "$$ \\alpha = 10 \\cdot log_{10}\\left(\\frac{P_o}{P_i}\\right) \\\\ $$\n",
    "\n",
    "[alpha]:https://es.wikipedia.org/wiki/Atenuación\n",
    "\n"
   ]
  },
  {
   "cell_type": "code",
   "execution_count": 10,
   "metadata": {},
   "outputs": [
    {
     "data": {
      "text/plain": [
       "-3"
      ]
     },
     "execution_count": 10,
     "metadata": {},
     "output_type": "execute_result"
    }
   ],
   "source": [
    "def attenuation(power_out:float, power_in:float):\n",
    "    return round(20 * m.log10(power_out/power_in))\n",
    "\n",
    "attenuation(70.7, 100)"
   ]
  },
  {
   "cell_type": "markdown",
   "metadata": {},
   "source": [
    "### 1.2. El ruido \n",
    "El [Ruido][noise] son las potencias parásitas que afectan la transmisión.\n",
    "\n",
    "[noise]:https://es.wikipedia.org/wiki/Ruido_(comunicación)#\n",
    "\n",
    "### 1.3. El eco\n",
    "El [Eco][21_3] es reflexión de una parte de la potencia original.\n",
    "\n",
    "[21_3]:https://es.wikipedia.org/wiki/P%C3%A9rdida_de_retorno"
   ]
  }
 ],
 "metadata": {
  "kernelspec": {
   "display_name": "Python 3",
   "language": "python",
   "name": "python3"
  },
  "language_info": {
   "codemirror_mode": {
    "name": "ipython",
    "version": 3
   },
   "file_extension": ".py",
   "mimetype": "text/x-python",
   "name": "python",
   "nbconvert_exporter": "python",
   "pygments_lexer": "ipython3",
   "version": "3.11.3"
  },
  "orig_nbformat": 4
 },
 "nbformat": 4,
 "nbformat_minor": 2
}
