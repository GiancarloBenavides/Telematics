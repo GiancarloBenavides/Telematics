{
 "cells": [
  {
   "cell_type": "markdown",
   "metadata": {},
   "source": [
    "# Transmisión de señales por un canal de comunicaciones\n",
    "<p><code>Python en Jupyter Notebook</code></p>\n",
    "<p>Creado por <code>Giancarlo Ortiz</code> para explicar los fundamentos de los <code>Sistemas de comunicaciones</code> en los cursos de telemática y redes de computadores.</p>\n",
    "\n",
    "## Descripción\n",
    "Este algoritmo, también llamado de caminos mínimos, es un método para resolver el problema del camino mas corto.\n",
    "\n",
    "### Agenda\n",
    "1. Factores que afectan la transmisión.\n",
    "1. Tasas de transferencia.\n",
    "1. Capacidad del canal."
   ]
  },
  {
   "cell_type": "code",
   "execution_count": 2,
   "metadata": {},
   "outputs": [],
   "source": [
    "# Importar módulos al cuaderno\n",
    "import math as m\n",
    "import matplotlib.pyplot as plt\n",
    "\n",
    "# Importar elementos de un módulo al cuaderno\n",
    "from math import pi\n",
    "from numpy import sin"
   ]
  },
  {
   "cell_type": "markdown",
   "metadata": {},
   "source": [
    "## 1. Factores que afectan la transmisión  ✔\n",
    "\n",
    "### 1.1. La atenuación \n",
    "la [Atenuación][alpha] es perdida de potencia de la señal durante su propagación por el medio, depende de las características del medio y de la frecuencia.\n",
    "\n",
    "\n",
    "[alpha]:https://es.wikipedia.org/wiki/Atenuación\n",
    "\n",
    "#### 1.1.1. Causas:\n",
    "* Absorción del material.\n",
    "* Oposición Transmisión.\n",
    "* Defectos de fabricación.\n",
    "* Deformación del material.\n",
    "\n",
    "#### 1.1.2. Representación:\n",
    "\n",
    "![Representación](../img/attenuation_utp.svg \"Atenuación\")\n",
    "\n",
    "#### 1.1.3. Ecuaciones:\n",
    "$$\n",
    "\\begin{aligned}\n",
    "\\alpha  &= 10 \\cdot log_{10}\\left(\\frac{P_o}{P_i}\\right) \\\\ \n",
    "        &= 20 \\cdot log_{10}\\left(\\frac{V_o}{V_i}\\right) \\\\\n",
    "\\end{aligned}\n",
    "$$"
   ]
  },
  {
   "cell_type": "code",
   "execution_count": 18,
   "metadata": {},
   "outputs": [
    {
     "name": "stdout",
     "output_type": "stream",
     "text": [
      "Atenuación de voltaje:  -3 dB\n",
      "Voltaje de salida: 3.16 voltios\n",
      "----------------------------------------\n",
      "Atenuación de potencia: -3 dB\n",
      "Voltaje de salida: 0.1 vatios\n"
     ]
    }
   ],
   "source": [
    "def voltage_attenuation(voltage_out:float, voltage_in:float):\n",
    "    ''' Calcula la atenuación desde los valores de voltaje de la señal de entrada. '''\n",
    "    return round(20 * m.log10(voltage_out/voltage_in))\n",
    "\n",
    "def voltage_out(decibels:float, voltage_in:float=100):\n",
    "    ''' Calcula el voltaje de salida desde los valores de atenuación de la señal de entrada. '''\n",
    "    return round(voltage_in * (10 ** (decibels/20)), 2)\n",
    "\n",
    "def power_attenuation(power_out:float, power_in:float):\n",
    "    ''' Calcula la atenuación desde los valores de potencia de la señal de entrada. '''\n",
    "    return round(10 * m.log10(power_out/power_in))\n",
    "\n",
    "def power_out(decibels:float, power_in:float=100):\n",
    "    ''' Calcula la potencia de salida desde los valores de atenuación de la señal de entrada. '''\n",
    "    return round(power_in * (10 ** (decibels/10)), 2)\n",
    "\n",
    "\n",
    "print(f\"Atenuación de voltaje:  {voltage_attenuation(70.7, 100)} dB\")\n",
    "print(f\"Voltaje de salida: {voltage_out(-30)} voltios\")\n",
    "print(20*\"--\")\n",
    "print(f\"Atenuación de potencia: {power_attenuation(50, 100)} dB\")\n",
    "print(f\"Voltaje de salida: {power_out(-30)} vatios\")\n"
   ]
  },
  {
   "cell_type": "markdown",
   "metadata": {},
   "source": [
    "### 1.2. El ruido \n",
    "El [Ruido][noise] son las potencias parásitas que afectan la transmisión.\n",
    "\n",
    "[noise]:https://es.wikipedia.org/wiki/Ruido_(comunicación)#\n",
    "\n"
   ]
  },
  {
   "cell_type": "code",
   "execution_count": null,
   "metadata": {},
   "outputs": [],
   "source": [
    "### 1.3. El eco"
   ]
  },
  {
   "cell_type": "markdown",
   "metadata": {},
   "source": [
    "### 1.3. El eco\n",
    "El [Eco][21_3] es reflexión de una parte de la potencia original.\n",
    "\n",
    "[21_3]:https://es.wikipedia.org/wiki/P%C3%A9rdida_de_retorno"
   ]
  }
 ],
 "metadata": {
  "kernelspec": {
   "display_name": "Python 3",
   "language": "python",
   "name": "python3"
  },
  "language_info": {
   "codemirror_mode": {
    "name": "ipython",
    "version": 3
   },
   "file_extension": ".py",
   "mimetype": "text/x-python",
   "name": "python",
   "nbconvert_exporter": "python",
   "pygments_lexer": "ipython3",
   "version": "3.11.3"
  },
  "orig_nbformat": 4
 },
 "nbformat": 4,
 "nbformat_minor": 2
}
