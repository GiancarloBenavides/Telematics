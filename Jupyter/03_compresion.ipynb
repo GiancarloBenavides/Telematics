{
 "cells": [
  {
   "cell_type": "markdown",
   "metadata": {},
   "source": [
    "# Codificación de la fuente\n",
    "<p><code>Python en Jupyter Notebook</code></p>\n",
    "<p>Creado por <code>Giancarlo Ortiz</code> para el curso de <code>Redes</code></p>\n",
    "\n",
    "## La fuente\n",
    "Una fuente es todo aquello que emite mensajes; puede entenderse como un dispositivo de transmisión de datos, cuyos mensajes son los datos enviados.\n",
    "\n",
    "### Agenda\n",
    "1. Tipos de fuente\n",
    "1. Tipos de código\n",
    "1. Codificación de fuentes\n"
   ]
  },
  {
   "cell_type": "code",
   "execution_count": 2,
   "metadata": {},
   "outputs": [],
   "source": [
    "# Importar módulos al cuaderno\n",
    "import heapq\n",
    "import math as m\n",
    "import numpy as np\n",
    "import pandas as pd\n",
    "import matplotlib.pyplot as plt\n",
    "\n",
    "from scipy import stats as st\n",
    "\n",
    "\n",
    "# Definir e incluir nuevas funciones al cuaderno\n",
    "def make_tree(probabilities: dict) -> tuple:\n",
    "    heap = []\n",
    "    # Agregamos todos los símbolos al montículo (árbol)\n",
    "    # Este montículo del modulo heapd estará siempre organizado por mínimos\n",
    "    for symbol, potluck in probabilities.items():\n",
    "        # La fila de prioridad está ordenada por\n",
    "        # prioridad y profundidad\n",
    "        heapq.heappush(heap, (potluck, 0, symbol))\n",
    "\n",
    "    # Empezamos a mezclar símbolos juntos\n",
    "    # hasta que la fila tenga un elemento\n",
    "    while len(heap) > 1:\n",
    "        # Desapila los símbolos de prioridad mas baja\n",
    "        e1 = heapq.heappop(heap)\n",
    "        e2 = heapq.heappop(heap)\n",
    "        # Apila un nuevo elemento\n",
    "        # Este nuevo nodo tiene probabilidad e1[0]+e2[0]\n",
    "        # y profundidad mayor al nuevo nodo\n",
    "        nw_e = (e1[0]+e2[0], max(e1[1], e2[1])+1, [e1, e2])\n",
    "        heapq.heappush(heap, nw_e)\n",
    "\n",
    "    # Devolvemos el arbol sin la fila\n",
    "    return heap[0]\n",
    "\n",
    "\n",
    "def make_dictionary(tree: tuple) -> dict:\n",
    "    res = {}  # La estructura que vamos a devolver\n",
    "    search_stack = []  # Pila para DFS\n",
    "    # El último elemento de la lista es el prefijo!\n",
    "    search_stack.append(tree+(\"\",))\n",
    "    while len(search_stack) > 0:\n",
    "        elm = search_stack.pop()\n",
    "        if type(elm[2]) == list:\n",
    "            # En este caso, el nodo NO es una hoja del árbol,\n",
    "            # es decir que tiene nodos hijos\n",
    "            prefix = elm[-1]\n",
    "            # El hijo izquierdo tiene \"0\" en el prefijo\n",
    "            search_stack.append(elm[2][1]+(prefix+\"0\",))\n",
    "            # El hijo derecho tiene \"1\" en el prefijo\n",
    "            search_stack.append(elm[2][0]+(prefix+\"1\",))\n",
    "            continue\n",
    "        else:\n",
    "            # El nodo es una hoja del árbol, así que\n",
    "            # obtenemos el código completo y lo agregamos\n",
    "            code = elm[-1]\n",
    "            res[elm[2]] = code\n",
    "        pass\n",
    "    return res\n"
   ]
  },
  {
   "cell_type": "markdown",
   "metadata": {},
   "source": [
    "## 1. Tipos de fuente\n",
    "---\n",
    "### 1.1. Fuente aleatoria:\n",
    "Según la naturaleza generativa de sus mensajes, una fuente puede ser determinista o [aleatoria](https://es.wikipedia.org/wiki/Variable_aleatoria).\n",
    "\n",
    "### 1.2. Fuente discreta:\n",
    "Según los valores que de sus mensajes, una fuente puede ser continua o [discreta](https://es.wikipedia.org/wiki/Funci%C3%B3n_discreta).\n",
    "\n",
    "### 1.3. Fuente estructurada\n",
    "Según la relación entre sus mensajes, una fuente puede ser caótica o [estructurada](https://es.wikipedia.org/wiki/Variable_aleatoria)."
   ]
  },
  {
   "cell_type": "markdown",
   "metadata": {},
   "source": [
    "## 2. Tipos de código\n",
    "---\n",
    "### 2.1. Código bloque:\n",
    "Los códigos bloque no tienen memoria, la secuencia de salida depende únicamente de el símbolo de entrada.\n",
    "\n",
    "### 2.2. Código No singular:\n",
    "Una singularidad se produce cuando dos símbolos tienen el mismo código; en un código no singular todas sus palabras son distintas\n",
    "\n",
    "| Fuente | Código singular | Código no singular |\n",
    "|:--:|:--:|:--:|\n",
    "| $ S_0 $ |  0 |  0 |\n",
    "| $ S_1 $ | __00__ | 00 |\n",
    "| $ S_2 $ | 01 | 01 |\n",
    "| $ S_3 $ | __00__ | 10 |\n",
    "\n",
    "\n",
    "### 2.3. Código univoco:\n",
    "En un código univoco la secuencia de salida es única para $E^n$.\n",
    "\n",
    "| Fuente | Código no univoco | Código univoco |\n",
    "|:--:|:--:|:--:|\n",
    "| $ S_0 $ |  __0__ |  11 |\n",
    "| $ S_1 $ | __00__ | 00 |\n",
    "| $ S_2 $ | 01 | 01 |\n",
    "| $ S_3 $ | 10 | 10 |\n",
    "\n",
    "### 2.3. Código instantáneo:.\n",
    "En un código instantáneo Se decodifica la palabra al momento que llega, sin esperar la siguiente palabra.\n",
    "<code>Ejemplo:</code> carácter de inicio vs carácter de fin.\n",
    "\n",
    "| Fuente | Código no instantáneo | Código instantáneo |\n",
    "|:--:|:--|--:|\n",
    "| $ S_0 $ | __0__ |  0 |\n",
    "| $ S_1 $ | __01__ | 10 |\n",
    "| $ S_2 $ | __011__ | 110 |\n",
    "| $ S_3 $ | __0111__ | 1110 |\n",
    "\n"
   ]
  },
  {
   "cell_type": "markdown",
   "metadata": {},
   "source": [
    "## 3. Codificación de la fuente\n",
    "---\n",
    "### 3.1. Definición:\n",
    "Dada una fuente aleatoria y discreta con alfabeto (FUENTE) finito $F$ y dado un alfabeto (DESTINO) de codificación también finito D, se considerarán únicamente los códigos consistentes en asignar unívocamente a cada elemento de $F^n$ , para un valor de n dado, una secuencia de elementos de D, que denominaremos palabra del código.\n",
    "\n",
    "Se base en:\n",
    "Elementos mas largos tienen \n",
    "\n",
    "### 3.2. Obtener el árbol de Huffman:\n",
    "Para obtener el árbol de prioridad:\n",
    "1. Poner todos los símbolos en una fila de prioridad de acuerdo a sus probabilidades.\n",
    "1. Combinar los dos símbolos menos probables en un solo nodo de un árbol.\n",
    "1. Insertar el nuevo nodo a la fila de prioridad\n",
    "1. Repetir desde el paso 2 hasta que sólo haya un elemento en la fila de prioridad.\n",
    "\n",
    "### 3.3. Obtener el código Huffman:\n",
    "Para obtener el código asociado a un símbolo:\n",
    "1. Comenzar con un código vacío\n",
    "1. Iniciar el recorrido del árbol en la hoja asociada al símbolo\n",
    "1. Comenzar un recorrido del árbol hacia arriba\n",
    "1. Cada vez que se suba un nivel, añadir al código la etiqueta de la rama que se ha recorrido\n",
    "1. Tras llegar a la raíz, invertir el código\n",
    "1. El resultado es el código Huffman deseado\n",
    "\n",
    "### <code>Ejemplo:</code> Alfabeto español\n",
    "Si se desea transmitir un mensaje binario escrito originalmente usando las mayúsculas del alfabeto latino y según la [frecuencia de aparición](https://es.wikipedia.org/wiki/Frecuencia_de_aparici%C3%B3n_de_letras) de letras en el español:\n",
    "\n",
    "* ¿Cuál es el número de símbolos del alfabeto latino?\n",
    "* ¿Cuál es el tamaño mínimo de bits para transmitir un símbolo?\n",
    "* ¿Cuál es la suma de todas las probabilidades de símbolo?\n",
    "* ¿Cuál es la probabilidad de una vocal?"
   ]
  },
  {
   "cell_type": "code",
   "execution_count": 3,
   "metadata": {},
   "outputs": [
    {
     "data": {
      "text/plain": [
       "{'J': '1111111',\n",
       " 'Z': '1111110',\n",
       " 'G': '111110',\n",
       " 'P': '11110',\n",
       " 'T': '1110',\n",
       " 'C': '1101',\n",
       " 'L': '1100',\n",
       " 'K': '1011111111',\n",
       " 'W': '1011111110',\n",
       " 'X': '101111110',\n",
       " 'Ñ': '10111110',\n",
       " 'F': '1011110',\n",
       " 'B': '101110',\n",
       " 'M': '10110',\n",
       " 'D': '1010',\n",
       " 'A': '100',\n",
       " 'I': '0111',\n",
       " 'N': '0110',\n",
       " 'E': '010',\n",
       " 'R': '0011',\n",
       " 'H': '0010111',\n",
       " 'Q': '0010110',\n",
       " 'V': '0010101',\n",
       " 'Y': '0010100',\n",
       " 'U': '00100',\n",
       " 'S': '0001',\n",
       " 'O': '0000'}"
      ]
     },
     "execution_count": 3,
     "metadata": {},
     "output_type": "execute_result"
    }
   ],
   "source": [
    "# Matriz de probabilidades\n",
    "probabilidades = {\n",
    "    \"A\": 0.1253, \"B\": 0.0142, \"C\": 0.0468, \"D\": 0.0586, \"E\": 0.1368, \"F\": 0.0069,\n",
    "    \"G\": 0.0101, \"H\": 0.0070, \"I\": 0.0625, \"J\": 0.0044, \"K\": 0.0001, \"L\": 0.0497,\n",
    "    \"M\": 0.0315, \"N\": 0.0671, \"Ñ\": 0.0031, \"O\": 0.0868, \"P\": 0.0251, \"Q\": 0.0088,\n",
    "    \"R\": 0.0687, \"S\": 0.0798, \"T\": 0.0463, \"U\": 0.0393, \"V\": 0.0090, \"W\": 0.0001,\n",
    "    \"X\": 0.0022, \"Y\": 0.0090, \"Z\": 0.0052\n",
    "}\n",
    "\n",
    "# Código Huffman Probabilidades\n",
    "huffman_code = make_dictionary(make_tree(probabilidades))\n",
    "huffman_code\n"
   ]
  },
  {
   "cell_type": "code",
   "execution_count": 5,
   "metadata": {},
   "outputs": [
    {
     "data": {
      "text/plain": [
       "{'010': '1',\n",
       " '100': '011',\n",
       " '110': '0101',\n",
       " '001': '010011',\n",
       " '101': '010010',\n",
       " '011': '01000',\n",
       " '111': '001',\n",
       " '000': '000'}"
      ]
     },
     "execution_count": 5,
     "metadata": {},
     "output_type": "execute_result"
    }
   ],
   "source": [
    "dict = {\n",
    "    \"000\": 0.2,\n",
    "    \"001\": 0.01,\n",
    "    \"010\": 0.4,\n",
    "    \"011\": 0.04,\n",
    "    \"100\": 0.1,\n",
    "    \"101\": 0.02,\n",
    "    \"110\": 0.07,\n",
    "    \"111\": 0.16, }\n",
    "\n",
    "arbol_huffman = make_tree(dict)\n",
    "codigo_huffman = make_dictionary(arbol_huffman)\n",
    "codigo_huffman\n"
   ]
  },
  {
   "cell_type": "markdown",
   "metadata": {},
   "source": [
    "---\n",
    "## Mas Recursos\n",
    "\n",
    "- [Codificación de canales con ruido](https://es.wikipedia.org/wiki/Teorema_de_Shannon-Hartley) (Wikipedia)\n",
    "- [Codificación de canales con ruido](https://es.wikipedia.org/wiki/Teorema_de_Shannon-Hartley) (Wikipedia)\n",
    "- [Capacidad de canal](https://es.wikipedia.org/wiki/Capacidad_de_canal) (Wikipedia)"
   ]
  }
 ],
 "metadata": {
  "kernelspec": {
   "display_name": "Python 3.10.4 64-bit",
   "language": "python",
   "name": "python3"
  },
  "language_info": {
   "codemirror_mode": {
    "name": "ipython",
    "version": 3
   },
   "file_extension": ".py",
   "mimetype": "text/x-python",
   "name": "python",
   "nbconvert_exporter": "python",
   "pygments_lexer": "ipython3",
   "version": "3.10.4"
  },
  "vscode": {
   "interpreter": {
    "hash": "916dbcbb3f70747c44a77c7bcd40155683ae19c65e1c03b4aa3499c5328201f1"
   }
  }
 },
 "nbformat": 4,
 "nbformat_minor": 2
}
