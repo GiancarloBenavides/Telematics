{
 "cells": [
  {
   "cell_type": "markdown",
   "metadata": {},
   "source": [
    "# La teoría de la información\n",
    "<p><code>Python en Jupyter Notebook</code></p>\n",
    "<p>Creado por <code>Giancarlo Ortiz</code> para el curso de <code>Redes</code></p>\n",
    "\n",
    "## La información\n",
    "La información es una propiedad concreta de la materia y la energía que es cuantificable y mensurable.\n",
    "\n",
    "### Agenda\n",
    "1. Incertidumbre\n",
    "1. Información\n",
    "1. Entropía\n",
    "1. Codificación de la fuente"
   ]
  },
  {
   "cell_type": "code",
   "execution_count": 1,
   "metadata": {},
   "outputs": [],
   "source": [
    "# Importar módulos al cuaderno\n",
    "import math as m\n",
    "import numpy as np\n",
    "import pandas as pd\n",
    "import matplotlib.pyplot as plt\n",
    "\n",
    "from scipy import stats as st\n",
    "\n",
    "# Definir e incluir nuevas funciones al cuaderno\n"
   ]
  },
  {
   "cell_type": "markdown",
   "metadata": {},
   "source": [
    "## 1. Incertidumbre:\n",
    "---\n",
    "Falta de confianza o certeza sobre un evento, en el caso de un alfabeto de entrada $X = \\{x_1, x_2,...,x_i,...,x_n\\}$ de $n$ símbolos con probabilidades de ocurrencia $P = \\{p_1,...,p_n\\}$ antes del primer símbolo y probabilidades de ocurrencia $\\tilde P = \\{ \\tilde p_1,..., \\tilde p_n\\}$ antes del segundo símbolo; la incertidumbre es proporcional a la sumatoria de la probabilidad de ocurrencia de todos los símbolos posibles; esto es: \n",
    "\n",
    "\\begin{align*}\n",
    "S =\n",
    "\\begin{cases}\n",
    "S_{0}=-\\sum _{i=1}^{n}p_{i}\\log _{2}p_{i} \\quad (\\text{Incertidumbre inicial}) \\\\\n",
    "S_{f}=-\\sum _{i=1}^{n}{\\tilde {p}}_{i}\\log _{2}{\\tilde {p}}_{i} \\quad (\\text{Incertidumbre final})\\\\\n",
    "\\end{cases}\n",
    "\\end{align*}\n",
    "\n",
    ">Nota:\n",
    "> * Si la base del logaritmo es $b=2$, la unidad de información es __bits__;\n",
    "> * Si la base es $b=e$, entonces la unidad es __nats__; \n",
    "> * Y finalmente si $b=10$, la unidad es __hartleys__."
   ]
  },
  {
   "cell_type": "markdown",
   "metadata": {},
   "source": [
    "### <code>Ejemplo:</code> Alfabeto español\n",
    "Si se desea transmitir un mensaje binario escrito originalmente usando las mayúsculas del alfabeto latino y según la [frecuencia de aparición](https://es.wikipedia.org/wiki/Frecuencia_de_aparici%C3%B3n_de_letras) de letras en el español:\n",
    "\n",
    "* ¿Cuál es el número de símbolos del alfabeto latino?\n",
    "* ¿Cuál es el tamaño mínimo de bits para transmitir un símbolo?\n",
    "* ¿Cuál es la suma de todas las probabilidades de símbolo?\n",
    "* ¿Cuál es la probabilidad de una vocal?"
   ]
  },
  {
   "cell_type": "code",
   "execution_count": 2,
   "metadata": {},
   "outputs": [
    {
     "name": "stdout",
     "output_type": "stream",
     "text": [
      "Número de símbolos posibles:  27\n",
      "Tamaño de palabra:  5 bits\n",
      "Suma de probabilidades letras:  1.0\n",
      "Suma de probabilidades vocales:  0.45\n"
     ]
    }
   ],
   "source": [
    "# Matriz de probabilidades\n",
    "probabilidades = {\n",
    "    \"A\": 0.1253, \"B\": 0.0142, \"C\": 0.0468, \"D\": 0.0586, \"E\": 0.1368, \"F\": 0.0069,\n",
    "    \"G\": 0.0101, \"H\": 0.0070, \"I\": 0.0625, \"J\": 0.0044, \"K\": 0.0001, \"L\": 0.0497,\n",
    "    \"M\": 0.0315, \"N\": 0.0671, \"Ñ\": 0.0031, \"O\": 0.0868, \"P\": 0.0251, \"Q\": 0.0088,\n",
    "    \"R\": 0.0687, \"S\": 0.0798, \"T\": 0.0463, \"U\": 0.0393, \"V\": 0.0090, \"W\": 0.0001,\n",
    "    \"X\": 0.0022, \"Y\": 0.0090, \"Z\": 0.0052\n",
    "}\n",
    "\n",
    "# Probabilidades de ocurrencia por letra\n",
    "probabilidad_letras = probabilidades.values()\n",
    "\n",
    "# Probabilidades de ocurrencia de las vocales\n",
    "probabilidad_vocales = [\n",
    "    probabilidades[\"A\"],\n",
    "    probabilidades[\"E\"],\n",
    "    probabilidades[\"I\"],\n",
    "    probabilidades[\"O\"],\n",
    "    probabilidades[\"U\"]\n",
    "]\n",
    "\n",
    "# Número de símbolos en el alfabeto\n",
    "letras = len(probabilidad_letras)\n",
    "# Tamaño mínimo de palabra (binario)\n",
    "tamaño = round(m.log2(letras))\n",
    "# Sumatoria de probabilidades\n",
    "suma_letras = round(sum(probabilidad_letras), 2)\n",
    "# Sumatoria de probabilidades para una vocal\n",
    "suma_vocales = round(sum(probabilidad_vocales), 2)\n",
    "\n",
    "# Salida\n",
    "print(\"Número de símbolos posibles: \", letras)\n",
    "print(\"Tamaño de palabra: \", tamaño, \"bits\")\n",
    "print(\"Suma de probabilidades letras: \", suma_letras)\n",
    "print(\"Suma de probabilidades vocales: \", suma_vocales)\n"
   ]
  },
  {
   "cell_type": "markdown",
   "metadata": {},
   "source": [
    "\n",
    "### <code>Ejemplo:</code> Alfabeto español\n",
    "Continuando con el ejemplo anterior:\n",
    "\n",
    "* ¿Cuál es la incertidumbre de un símbolo para una palabra nueva?\n",
    "* ¿Cuál es la incertidumbre de el segundo símbolo si el primero en llegar es una \"Z\"?\n",
    "* ¿Cuál es el cambio en la incertidumbre de símbolo?"
   ]
  },
  {
   "cell_type": "code",
   "execution_count": 3,
   "metadata": {},
   "outputs": [
    {
     "name": "stdout",
     "output_type": "stream",
     "text": [
      "| -------------------------------------- |\n",
      "| Pos | letra | Inicial | Final | Cambio |\n",
      "| -------------------------------------- |\n",
      "|  1  |   Z   |    4.04 |  2.20 |   1.84 |\n",
      "| -------------------------------------- |\n"
     ]
    }
   ],
   "source": [
    "# Probabilidades primera letra\n",
    "P1 = probabilidad_letras\n",
    "P2 = list(np.multiply(np.array(probabilidad_vocales), 1/suma_vocales))\n",
    "\n",
    "s0, s1 = 0, 0\n",
    "for item in P1:\n",
    "    s0 -= item * m.log2(item)\n",
    "\n",
    "for item in P2:\n",
    "    s1 -= item * m.log2(item)\n",
    "\n",
    "# Cambio en la incertidumbre\n",
    "Δs = - (s1 - s0)\n",
    "\n",
    "# Salida\n",
    "print(f\"|\", \"-\"*38, \"|\")\n",
    "print(f\"| Pos | letra | Inicial | Final | Cambio |\")\n",
    "print(f\"|\", \"-\"*38, \"|\")\n",
    "print(f\"|  1  |   Z   | {s0:7.2f} | {s1:5.2f} | {Δs:6.2f} |\")\n",
    "print(f\"|\", \"-\"*38, \"|\")\n"
   ]
  },
  {
   "cell_type": "markdown",
   "metadata": {},
   "source": [
    "## 2. Información\n",
    "---\n",
    "### 2.1. Definición:\n",
    "Es un conjunto de datos (mensaje) sobre un determinado fenómeno que no se conocían.\n",
    "\n",
    "Se basa en:\n",
    "* La información es transferida desde una fuente a un destinatario, solo si este ultimo no la conocía previamente.\n",
    "* La información siempre es mayor o igual a cero\n",
    "* No existe información en un símbolo seguro (probabilidad)\n",
    "* Existe información infinita en un símbolo imposible (probabilidad)\n",
    "\n",
    "### 2.2. Ecuaciones:\n",
    "\n",
    "\\begin{align*}\n",
    "I(s) &= - (S_f - S_o) \\quad \\text{Reducción de la incertidumbre} \\\\\n",
    "I(x_i) &= log_b \\frac {1}{p(x_i)} = - log_b p(x_i) \\quad \\text{Autoinformación} \\\\\n",
    "\\end{align*}\n",
    "\n",
    ">Nota:\n",
    "> * Si la base del logaritmo es $b=2$, la unidad de información es __bits__;\n",
    "> * Si la base es $b=e$, entonces la unidad es __nats__; \n",
    "> * Y finalmente si $b=10$, la unidad es __hartleys__.\n",
    "\n",
    "\n",
    "### <code>Ejemplo:</code> Alfabeto español\n",
    "Continuando con la distribución de probabilidades del ejemplo anterior:\n",
    "* ¿Cuál es la información asociada a la primera letra \"Z\" en un codificador optimo?\n",
    "* ¿Cuál es la información asociada a la llegada de la primera letra \"Z\"?"
   ]
  },
  {
   "cell_type": "code",
   "execution_count": 4,
   "metadata": {},
   "outputs": [
    {
     "name": "stdout",
     "output_type": "stream",
     "text": [
      "La información asociada a la letra Z en un codificador optimo es:      7.59 bits.\n",
      "La información asociada a la letra Z por reducción de incertidumbre:   1.84 bits.\n"
     ]
    }
   ],
   "source": [
    "auto_info_z = m.log2(1/probabilidades[\"Z\"])\n",
    "\n",
    "# Salida\n",
    "print(\n",
    "    f\"La información asociada a la letra Z en un codificador optimo es:    {auto_info_z:6.2f} bits.\")\n",
    "print(\n",
    "    f\"La información asociada a la letra Z por reducción de incertidumbre: {Δs:6.2f} bits.\")\n"
   ]
  },
  {
   "cell_type": "markdown",
   "metadata": {},
   "source": [
    "\n",
    "## 3. Entropía\n",
    "---\n",
    "### 3.1. Definición:\n",
    "En teoría de la información la entropía es una medida de la incertidumbre de una fuente de información.\n",
    "\n",
    "Se basa en:\n",
    "* La entropía es positiva\n",
    "* La entropía es proporcional a la información \n",
    "* Si todos los símbolos de una fuente son igual de probables, entonces la entropía de la fuente será máxima.\n",
    "\n",
    "### 3.2. Ecuaciones:\n",
    "Dada una variable aleatoria $X = \\{x_1, x_2,...,x_i,...,x_n\\}$ la entropía nos da el número medio de bits (si usamos logaritmos de base 2) necesarios para codificar el mensaje a través de un codificador óptimo:\n",
    "\n",
    "\\begin{align*}\n",
    "H(X) &= \\sum_{i=1}^{n} p(x_i) \\cdot log_b \\frac {1}{p(x_i)} = - \\sum_{i=1}^{n} p(x_i) \\cdot log_b p(x_i) \\\\\n",
    "\\end{align*}\n",
    "\n",
    "\n",
    "### 3.3. Propiedades:\n",
    "Algunas de las reglas que podemos mencionar:\n",
    "\n",
    "| Nombre | Ecuación | Nota |\n",
    "|--|--|:--:|\n",
    "| Entropía Conjunta | $ H(X,Y) = - \\sum_{i,j=1,1}^{n,m} p(x_i,y_j) \\cdot log_b p(x_i,y_j) $ | (1) |\n",
    "| Entropía Condicional | $ H(X/Y) = - \\sum_{j=1}^{m} p(y_j) \\sum_{i=1}^{n} p(x_i/y) \\cdot log_b p(x_i/y) $ | (2) |\n",
    "| Primer teorema de Shannon | $ R_c \\geq H(x) \\Rightarrow E \\rightarrow 0; \\quad  R_c \\leq H(x) \\Rightarrow E > 0 $ | (3) |\n",
    "\n",
    "<p><small>\n",
    "<div><sup>1,2</sup> Para dos variables aleatorias X,Y dependientes entre si</div>\n",
    "<div><sup>3</sup>  Limite de codificación de fuentes sin tener en cuenta el ruido</div>\n",
    "</small></p>\n",
    "\n",
    "### <code>Ejemplo:</code> Alfabeto español\n",
    "Continuando con la distribución de probabilidades del ejemplo anterior:\n",
    "* ¿Cuál es la entropía de la variable aleatoria formada por el alfabeto latino en español?\n",
    "* ¿Cuál seria la tasa de de la fuente sobre un codificador optimo en un canal de 4Khz?\n"
   ]
  },
  {
   "cell_type": "code",
   "execution_count": 21,
   "metadata": {},
   "outputs": [
    {
     "name": "stdout",
     "output_type": "stream",
     "text": [
      "La entropía de la fuente es:         4.04 bits.\n",
      "La tasa de información es:      32,330.17 bps.\n"
     ]
    }
   ],
   "source": [
    "tasa = round(2*4_000*s0, 2)\n",
    "\n",
    "# Salida\n",
    "print(f\"La entropía de la fuente es: {s0:12.2f} bits.\")\n",
    "print(f\"La tasa de información es:   {tasa:12,.2f} bps.\")\n",
    "\n"
   ]
  },
  {
   "cell_type": "markdown",
   "metadata": {},
   "source": [
    "### <code>Ejemplo:</code> Relación de la entropía con otras variables\n",
    "* La entropía es igual a la incertidumbre inicial y es maxima para símbolos igualmente probables.\n",
    "* La incertidumbre y la información disminuyen con la probabilidad."
   ]
  },
  {
   "cell_type": "code",
   "execution_count": 22,
   "metadata": {},
   "outputs": [
    {
     "data": {
      "image/png": "[encoded data removed]",
      "text/plain": [
       "<Figure size 1600x300 with 2 Axes>"
      ]
     },
     "metadata": {},
     "output_type": "display_data"
    }
   ],
   "source": [
    "# Vector de valores posibles de probabilidad\n",
    "x = np.linspace(0.01, 0.99, 101)\n",
    "\n",
    "# Incertidumbre promedio de toda la fuente\n",
    "y1 = -x * np.log2(x) - (1-x) * np.log2(1-x)\n",
    "\n",
    "# Incertidumbre individual por símbolo\n",
    "y2 = - np.log2(x)\n",
    "\n",
    "# Gráficas\n",
    "fig, axes = plt.subplots(nrows=1, ncols=2, figsize=(16, 3))\n",
    "\n",
    "# Gráfica 1\n",
    "# Entropía es maxima para valores equiprobables.\n",
    "plt.subplot(121)\n",
    "plt.plot(x, y1, color=\"#3333ff\")\n",
    "plt.title(\n",
    "    \"Incertidumbre Promedio\\n\".upper() +\n",
    "    f\"Fuente binaria\", fontsize=12, fontweight=\"bold\")\n",
    "plt.xlabel(\"Probabilidad\")\n",
    "plt.ylabel(\"Incertidumbre [bits]\")\n",
    "\n",
    "# Gráfica 2\n",
    "# Mientras menos probable, más sorpresa y más información contiene.\n",
    "plt.subplot(122)\n",
    "plt.plot(x, y2, color=\"tab:orange\")\n",
    "plt.title(\n",
    "    \"Incertidumbre individual\\n\".upper() +\n",
    "    f\"Decrecimiento logarítmico\")\n",
    "plt.text(\n",
    "    0.7, 4, r\"$ \\rightarrow \\log_2 \\left( \\frac {1} {p(x)} \\right) $\",\n",
    "    fontsize=12, color=\"tab:orange\")\n",
    "plt.xlabel(\"Probabilidad\")\n",
    "plt.ylabel(\"Información [bits]\")\n",
    "\n",
    "plt.show()\n"
   ]
  },
  {
   "cell_type": "markdown",
   "metadata": {},
   "source": [
    "## 3. Codificación de la fuente\n",
    "---\n",
    "### 3.1. Definición:\n",
    "En teoría de la información la entropía es una medida de la incertidumbre de una fuente de información.\n",
    "\n",
    "Se basa en:\n",
    "* La entropía es positiva\n",
    "* La entropía es proporcional a la información \n",
    "* Si todos los símbolos de una fuente son igual de probables, entonces la entropía de la fuente será máxima."
   ]
  },
  {
   "cell_type": "code",
   "execution_count": 44,
   "metadata": {},
   "outputs": [],
   "source": [
    "import heapq\n",
    "\n",
    "\n",
    "def make_tree(probabilities: dict) -> tuple:\n",
    "    heap = []\n",
    "    # Agregamos todos los símbolos al montículo (árbol)\n",
    "    # Este montículo del modulo heapd estará siempre organizado por mínimos\n",
    "    for symbol, potluck in probabilities.items():\n",
    "        # La fila de prioridad está ordenada por\n",
    "        # prioridad y profundidad\n",
    "        heapq.heappush(heap, (potluck, 0, symbol))\n",
    "\n",
    "    # Empezamos a mezclar símbolos juntos\n",
    "    # hasta que la fila tenga un elemento\n",
    "    while len(heap) > 1:\n",
    "        # Desapila los símbolos de prioridad mas baja\n",
    "        e1 = heapq.heappop(heap)\n",
    "        e2 = heapq.heappop(heap)\n",
    "        # Apila un nuevo elemento\n",
    "        # Este nuevo nodo tiene probabilidad e1[0]+e2[0]\n",
    "        # y profundidad mayor al nuevo nodo\n",
    "        nw_e = (e1[0]+e2[0], max(e1[1], e2[1])+1, [e1, e2])\n",
    "        heapq.heappush(heap, nw_e)\n",
    "\n",
    "    # Devolvemos el arbol sin la fila\n",
    "    return heap[0]\n",
    "\n",
    "\n",
    "def make_dictionary(tree):\n",
    "    res = {}  # La estructura que vamos a devolver\n",
    "    search_stack = []  # Pila para DFS\n",
    "    # El último elemento de la lista es el prefijo!\n",
    "    search_stack.append(tree+(\"\",))\n",
    "    while len(search_stack) > 0:\n",
    "        elm = search_stack.pop()\n",
    "        if type(elm[2]) == list:\n",
    "            # En este caso, el nodo NO es una hoja del árbol,\n",
    "            # es decir que tiene nodos hijos\n",
    "            prefix = elm[-1]\n",
    "            # El hijo izquierdo tiene \"0\" en el prefijo\n",
    "            search_stack.append(elm[2][1]+(prefix+\"0\",))\n",
    "            # El hijo derecho tiene \"1\" en el prefijo\n",
    "            search_stack.append(elm[2][0]+(prefix+\"1\",))\n",
    "            continue\n",
    "        else:\n",
    "            # El nodo es una hoja del árbol, así que\n",
    "            # obtenemos el código completo y lo agregamos\n",
    "            code = elm[-1]\n",
    "            res[elm[2]] = code\n",
    "        pass\n",
    "    return res\n"
   ]
  },
  {
   "cell_type": "code",
   "execution_count": 45,
   "metadata": {},
   "outputs": [
    {
     "data": {
      "text/plain": [
       "[(0.0001, 0, 'W'),\n",
       " (0.0044, 0, 'J'),\n",
       " (0.0022, 0, 'X'),\n",
       " (0.0088, 0, 'Q'),\n",
       " (0.0069, 0, 'F'),\n",
       " (0.0031, 0, 'Ñ'),\n",
       " (0.0101, 0, 'G'),\n",
       " (0.0586, 0, 'D'),\n",
       " (0.0251, 0, 'P'),\n",
       " (0.0463, 0, 'T'),\n",
       " (0.007, 0, 'H'),\n",
       " (0.009, 0, 'Y'),\n",
       " (0.0052, 0, 'Z'),\n",
       " (0.0671, 0, 'N'),\n",
       " (0.0142, 0, 'B'),\n",
       " (0.1253, 0, 'A'),\n",
       " (0.0868, 0, 'O'),\n",
       " (0.0625, 0, 'I'),\n",
       " (0.0687, 0, 'R'),\n",
       " (0.1368, 0, 'E'),\n",
       " (0.0798, 0, 'S'),\n",
       " (0.0393, 0, 'U'),\n",
       " (0.009, 0, 'V'),\n",
       " (0.0497, 0, 'L'),\n",
       " (0.0315, 0, 'M'),\n",
       " (0.0468, 0, 'C')]"
      ]
     },
     "execution_count": 45,
     "metadata": {},
     "output_type": "execute_result"
    }
   ],
   "source": [
    "heap = []\n",
    "for ch,pr in probabilidades.items():\n",
    "    heapq.heappush(heap,(pr,0,ch))\n",
    "heapq.heappop(heap)\n",
    "heap\n"
   ]
  },
  {
   "cell_type": "code",
   "execution_count": 43,
   "metadata": {},
   "outputs": [
    {
     "data": {
      "text/plain": [
       "{'J': '1111111',\n",
       " 'Z': '1111110',\n",
       " 'G': '111110',\n",
       " 'P': '11110',\n",
       " 'T': '1110',\n",
       " 'C': '1101',\n",
       " 'L': '1100',\n",
       " 'K': '1011111111',\n",
       " 'W': '1011111110',\n",
       " 'X': '101111110',\n",
       " 'Ñ': '10111110',\n",
       " 'F': '1011110',\n",
       " 'B': '101110',\n",
       " 'M': '10110',\n",
       " 'D': '1010',\n",
       " 'A': '100',\n",
       " 'I': '0111',\n",
       " 'N': '0110',\n",
       " 'E': '010',\n",
       " 'R': '0011',\n",
       " 'H': '0010111',\n",
       " 'Q': '0010110',\n",
       " 'V': '0010101',\n",
       " 'Y': '0010100',\n",
       " 'U': '00100',\n",
       " 'S': '0001',\n",
       " 'O': '0000'}"
      ]
     },
     "execution_count": 43,
     "metadata": {},
     "output_type": "execute_result"
    }
   ],
   "source": [
    "make_dictionary(make_tree(probabilidades))"
   ]
  },
  {
   "cell_type": "code",
   "execution_count": 31,
   "metadata": {},
   "outputs": [
    {
     "data": {
      "text/plain": [
       "{'C': '1',\n",
       " 'E': '011',\n",
       " 'G': '0101',\n",
       " 'B': '010011',\n",
       " 'F': '010010',\n",
       " 'D': '01000',\n",
       " 'H': '001',\n",
       " 'A': '000'}"
      ]
     },
     "execution_count": 31,
     "metadata": {},
     "output_type": "execute_result"
    }
   ],
   "source": [
    "dict = {\n",
    "    \"A\": 0.2,\n",
    "    \"B\": 0.01,\n",
    "    \"C\": 0.4,\n",
    "    \"D\": 0.04,\n",
    "    \"E\": 0.1,\n",
    "    \"F\": 0.02,\n",
    "    \"G\": 0.07,\n",
    "    \"H\": 0.16,}\n",
    "\n",
    "make_dictionary(make_tree(dict))\n"
   ]
  },
  {
   "cell_type": "code",
   "execution_count": 33,
   "metadata": {},
   "outputs": [
    {
     "data": {
      "text/plain": [
       "(1.0,\n",
       " 6,\n",
       " [(0.4, 0, '010'),\n",
       "  (0.6,\n",
       "   5,\n",
       "   [(0.24000000000000002,\n",
       "     4,\n",
       "     [(0.1, 0, '100'),\n",
       "      (0.14,\n",
       "       3,\n",
       "       [(0.07, 0, '110'),\n",
       "        (0.07,\n",
       "         2,\n",
       "         [(0.03, 1, [(0.01, 0, '001'), (0.02, 0, '101')]),\n",
       "          (0.04, 0, '011')])])]),\n",
       "    (0.36, 1, [(0.16, 0, '111'), (0.2, 0, '000')])])])"
      ]
     },
     "execution_count": 33,
     "metadata": {},
     "output_type": "execute_result"
    }
   ],
   "source": [
    "dict = {\n",
    "    \"000\": 0.2,\n",
    "    \"001\": 0.01,\n",
    "    \"010\": 0.4,\n",
    "    \"011\": 0.04,\n",
    "    \"100\": 0.1,\n",
    "    \"101\": 0.02,\n",
    "    \"110\": 0.07,\n",
    "    \"111\": 0.16,}\n",
    "\n",
    "arbol = make_tree(dict)\n",
    "diccionario = make_dictionary(arbol)\n",
    "arbol"
   ]
  },
  {
   "cell_type": "markdown",
   "metadata": {},
   "source": [
    "---\n",
    "## Mas Recursos\n",
    "\n",
    "- [Teoría de la información](https://es.wikipedia.org/wiki/Teor%C3%ADa_de_la_informaci%C3%B3n) (Wikipedia)\n",
    "- [Información](https://es.wikipedia.org/wiki/Informaci%C3%B3n) (Wikipedia)\n",
    "- [Entropía](https://es.wikipedia.org/wiki/Entrop%C3%ADa_(informaci%C3%B3n)) (Wikipedia)\n",
    "- [Teorema de muestreo](https://es.wikipedia.org/wiki/Teorema_de_muestreo_de_Nyquist-Shannon) (Wikipedia)\n",
    "- [Codificación de canales con ruido](https://es.wikipedia.org/wiki/Teorema_de_Shannon-Hartley) (Wikipedia)\n",
    "- [Capacidad de canal](https://es.wikipedia.org/wiki/Capacidad_de_canal) (Wikipedia)"
   ]
  }
 ],
 "metadata": {
  "kernelspec": {
   "display_name": "Python 3.10.4 64-bit",
   "language": "python",
   "name": "python3"
  },
  "language_info": {
   "codemirror_mode": {
    "name": "ipython",
    "version": 3
   },
   "file_extension": ".py",
   "mimetype": "text/x-python",
   "name": "python",
   "nbconvert_exporter": "python",
   "pygments_lexer": "ipython3",
   "version": "3.10.4"
  },
  "vscode": {
   "interpreter": {
    "hash": "916dbcbb3f70747c44a77c7bcd40155683ae19c65e1c03b4aa3499c5328201f1"
   }
  }
 },
 "nbformat": 4,
 "nbformat_minor": 2
}
